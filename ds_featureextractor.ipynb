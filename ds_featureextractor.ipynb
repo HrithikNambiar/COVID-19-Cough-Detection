{
  "nbformat": 4,
  "nbformat_minor": 0,
  "metadata": {
    "colab": {
      "name": "ds_featureextractor.ipynb",
      "provenance": [],
      "mount_file_id": "1UYLq8GmcUqdwcRF9iqAHbY5y2YA6Xn3t",
      "authorship_tag": "ABX9TyPRrlVbN8Zlz7VuYtXgJI+i",
      "include_colab_link": true
    },
    "kernelspec": {
      "name": "python3",
      "display_name": "Python 3"
    }
  },
  "cells": [
    {
      "cell_type": "markdown",
      "metadata": {
        "id": "view-in-github",
        "colab_type": "text"
      },
      "source": [
        "<a href=\"https://colab.research.google.com/github/HrithikNambiar/COVID-19-Cough-Detection/blob/main/ds_featureextractor.ipynb\" target=\"_parent\"><img src=\"https://colab.research.google.com/assets/colab-badge.svg\" alt=\"Open In Colab\"/></a>"
      ]
    },
    {
      "cell_type": "code",
      "metadata": {
        "colab": {
          "base_uri": "https://localhost:8080/"
        },
        "id": "bkZ0Tms2MwFF",
        "outputId": "ef17792e-592f-410b-96e2-1819de4c5d86"
      },
      "source": [
        "cd '/content/drive/MyDrive/ComParE2021'"
      ],
      "execution_count": null,
      "outputs": [
        {
          "output_type": "stream",
          "text": [
            "/content/drive/MyDrive/ComParE2021\n"
          ],
          "name": "stdout"
        }
      ]
    },
    {
      "cell_type": "code",
      "metadata": {
        "colab": {
          "base_uri": "https://localhost:8080/"
        },
        "id": "H_cpKEdig4OV",
        "outputId": "5de7fd49-2d81-48b4-f495-4c8009144b16"
      },
      "source": [
        "!ls"
      ],
      "execution_count": null,
      "outputs": [
        {
          "output_type": "stream",
          "text": [
            "activate\t  chunk4.wav\t features\t\t\t   README.md\n",
            "audeep_workspace  chunk5.wav\t features_2\t\t\t   results\n",
            "augmented_dist\t  chunk6.wav\t Miniconda3-4.5.4-Linux-x86_64.sh  scripts\n",
            "chunk0.wav\t  data\t\t notebooks\t\t\t   smile.log\n",
            "chunk1.wav\t  data_2\t opensmile\t\t\t   src\n",
            "chunk2.wav\t  dist\t\t openxbow\n",
            "chunk3.wav\t  end2you_files  params.yaml\n"
          ],
          "name": "stdout"
        }
      ]
    },
    {
      "cell_type": "code",
      "metadata": {
        "id": "ygweFo11g7hP"
      },
      "source": [
        "!pip install -U PyYAML\n",
        "!pip install liac-arff\n",
        "!pip install -U scikit-learn scipy matplotlib"
      ],
      "execution_count": null,
      "outputs": []
    },
    {
      "cell_type": "code",
      "metadata": {
        "id": "LuKiy1BlVuxO"
      },
      "source": [
        "pip install deepspectrum"
      ],
      "execution_count": null,
      "outputs": []
    },
    {
      "cell_type": "code",
      "metadata": {
        "id": "L7K-RFaMg-LH"
      },
      "source": [
        "import os, yaml, subprocess, glob\n",
        "verbose_option='-v'"
      ],
      "execution_count": null,
      "outputs": []
    },
    {
      "cell_type": "code",
      "metadata": {
        "id": "uKRVfLoYl9wv"
      },
      "source": [
        "params = {}\n",
        "with open('params.yaml') as f:\n",
        "    params = yaml.load(f, Loader=yaml.FullLoader)\n",
        "    params = params['deepspectrum']\n",
        "\n",
        "\n",
        "# base directory for audio files\n",
        "audio_base='/content/drive/MyDrive/ComParE2021/data_2/train'\n",
        "output_base='/content/drive/MyDrive/ComParE2021/features_2/deepspectrum'\n",
        "label_base='/content/drive/MyDrive/ComParE2021/data_2'\n",
        "label_files = glob.glob(f'{label_base}/*.csv')\n"
      ],
      "execution_count": null,
      "outputs": []
    },
    {
      "cell_type": "code",
      "metadata": {
        "id": "WWNiN64RTsN8"
      },
      "source": [
        "if not os.path.exists(output_base):\n",
        "    os.makedirs(output_base)\n",
        "\n",
        "\n",
        "# plot mode: mel, spectrogram, chroma\n",
        "plotMode=params['plotMode']\n",
        "\n",
        "# if mode == mel --> number of mel bands\n",
        "melBands=params['melBands']\n",
        "\n",
        "# good choices can be \"magma\", \"plasma\", \"viridis\" or \"cividis\"\n",
        "colourMap = params['colourMap']\n",
        "\n",
        "# if windoing\n",
        "window_size = params['window_size']\n",
        "hop_size = params['hop_size']"
      ],
      "execution_count": null,
      "outputs": []
    },
    {
      "cell_type": "code",
      "metadata": {
        "colab": {
          "base_uri": "https://localhost:8080/"
        },
        "id": "xZQ3OQoSUNkU",
        "outputId": "058c6511-4269-4678-9008-132c87d74d6e"
      },
      "source": [
        "# DeepSpectrum supports the following pre-trained CNN networks: vgg16, vgg19, resnet50, inception_resnet_v2,\n",
        "# xception, densenet121, densenet169, densenet201, mobilenet, mobilenet_v2, nasnet_large, nasnet_mobile, alexnet,\n",
        "# squeezenet, googlenet.\n",
        "extractionNetwork = params['extractionNetwork']\n",
        "# recommended feature layer for all pre-trained CNNs except for vgg16, vgg19, and alexnet: \"avg_pool\"\n",
        "# recommended feature layer for vgg16, vgg19, and alexnet: \"fc2\"\n",
        "for network in extractionNetwork:\n",
        "    if network == 'vgg16' or network == 'vgg19' or network == 'alexnet':\n",
        "        featureLayer = 'fc2'\n",
        "    else:\n",
        "        featureLayer = 'avg_pool'   \n",
        "    for mode in plotMode:\n",
        "        if mode == 'mel':\n",
        "            for nmel in melBands:\n",
        "                for colour in colourMap:\n",
        "                    for label_file in label_files:\n",
        "                        fid = [network, featureLayer, mode, str(nmel), colour, os.path.basename(label_file)]\n",
        "                        featFile = os.path.join(*fid)\n",
        "                        outputFeat = os.path.join(output_base, featFile)\n",
        "                        cmd='deepspectrum ' + verbose_option + ' features ' + os.path.join(audio_base) \\\n",
        "                            + ' -o ' + outputFeat + ' -en ' + network \\\n",
        "                            + ' -fl ' + featureLayer + ' -m ' + mode + ' -nm ' + str(nmel) \\\n",
        "                            + ' -cm ' + colour + ' -lf ' + label_file \n",
        "                        if window_size is not None:\n",
        "                            cmd += ' -t ' + str(window_size) + ' ' + str(hop_size)\n",
        "                        print(cmd)\n",
        "                        os.system(cmd)\n",
        "                    # subprocess.Popen(cmd, shell=True).wait()\n",
        "        elif mode == 'spectrogram' or mode == 'chroma':\n",
        "            for colour in colourMap:\n",
        "                for label_file in label_files:\n",
        "                    fid = [network, featureLayer, mode, colour, os.path.basename(label_file)]\n",
        "                    featFile = os.path.join(*fid)\n",
        "                    outputFeat = os.path.join(output_base, featFile)\n",
        "                    cmd='deepspectrum ' + verbose_option + ' features ' + os.path.join(audio_base) \\\n",
        "                        + ' -o ' + outputFeat + ' -en ' + network \\\n",
        "                        + ' -fl ' + featureLayer + ' -m ' + mode \\\n",
        "                        + ' -cm ' + colour + ' -lf ' + label_file \n",
        "                    if window_size is not None:\n",
        "                        cmd += ' -t ' + str(window_size) + ' ' + str(hop_size)\n",
        "                    print(cmd)\n",
        "                    os.system(cmd)\n",
        "                # subprocess.Popen(cmd, shell=True).wait()"
      ],
      "execution_count": null,
      "outputs": [
        {
          "output_type": "stream",
          "text": [
            "deepspectrum -v features /content/drive/MyDrive/ComParE2021/data_2/train -o /content/drive/MyDrive/ComParE2021/features_2/deepspectrum/densenet121/avg_pool/mel/128/viridis/train.csv -en densenet121 -fl avg_pool -m mel -nm 128 -cm viridis -lf /content/drive/MyDrive/ComParE2021/data_2/train.csv\n",
            "deepspectrum -v features /content/drive/MyDrive/ComParE2021/data_2/train -o /content/drive/MyDrive/ComParE2021/features_2/deepspectrum/densenet121/avg_pool/mel/128/viridis/test.csv -en densenet121 -fl avg_pool -m mel -nm 128 -cm viridis -lf /content/drive/MyDrive/ComParE2021/data_2/test.csv\n",
            "deepspectrum -v features /content/drive/MyDrive/ComParE2021/data_2/train -o /content/drive/MyDrive/ComParE2021/features_2/deepspectrum/densenet121/avg_pool/mel/128/viridis/val.csv -en densenet121 -fl avg_pool -m mel -nm 128 -cm viridis -lf /content/drive/MyDrive/ComParE2021/data_2/val.csv\n"
          ],
          "name": "stdout"
        }
      ]
    },
    {
      "cell_type": "code",
      "metadata": {
        "colab": {
          "base_uri": "https://localhost:8080/"
        },
        "id": "c2b24mzGUTIz",
        "outputId": "e2a38cb0-d1a0-4e40-f130-f44ea96bfb4b"
      },
      "source": [
        "!python -m src.svm deepspectrum"
      ],
      "execution_count": null,
      "outputs": [
        {
          "output_type": "stream",
          "text": [
            "Fitting 1 folds for each of 20 candidates, totalling 20 fits\n",
            "UAR: 0.6362704918032787\n",
            "              precision    recall  f1-score   support\n",
            "\n",
            "    negative       0.85      0.81      0.83       183\n",
            "    positive       0.39      0.46      0.42        48\n",
            "\n",
            "    accuracy                           0.74       231\n",
            "   macro avg       0.62      0.64      0.63       231\n",
            "weighted avg       0.76      0.74      0.75       231\n",
            "\n",
            "\n",
            "Confusion Matrix:\n",
            "\n",
            "[[149  34]\n",
            " [ 26  22]]\n",
            "Generating test predictions for optimised parameters {'estimator': \"LinearSVC(C=0.1, class_weight='balanced', max_iter=10000, random_state=42)\", 'estimator__C': '0.1', 'estimator__class_weight': 'balanced', 'estimator__loss': 'squared_hinge', 'estimator__max_iter': 10000, 'scaler': 'None'}\n"
          ],
          "name": "stdout"
        }
      ]
    },
    {
      "cell_type": "code",
      "metadata": {
        "colab": {
          "base_uri": "https://localhost:8080/"
        },
        "id": "kcZ3lHiTgDnV",
        "outputId": "a050d8fc-3a18-415f-91e0-07ec7d71a1b4"
      },
      "source": [
        "!python -m src.svm deepspectrum"
      ],
      "execution_count": null,
      "outputs": [
        {
          "output_type": "stream",
          "text": [
            "Fitting 1 folds for each of 20 candidates, totalling 20 fits\n",
            "UAR: 0.6466871584699454\n",
            "              precision    recall  f1-score   support\n",
            "\n",
            "    negative       0.86      0.81      0.83       183\n",
            "    positive       0.40      0.48      0.44        48\n",
            "\n",
            "    accuracy                           0.74       231\n",
            "   macro avg       0.63      0.65      0.64       231\n",
            "weighted avg       0.76      0.74      0.75       231\n",
            "\n",
            "\n",
            "Confusion Matrix:\n",
            "\n",
            "[[149  34]\n",
            " [ 25  23]]\n",
            "Generating test predictions for optimised parameters {'estimator': \"LinearSVC(C=1e-05, class_weight='balanced', max_iter=10000, random_state=42)\", 'estimator__C': '1e-05', 'estimator__class_weight': 'balanced', 'estimator__loss': 'squared_hinge', 'estimator__max_iter': 10000, 'scaler': 'None'}\n"
          ],
          "name": "stdout"
        }
      ]
    }
  ]
}