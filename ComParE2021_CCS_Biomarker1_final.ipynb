{
  "nbformat": 4,
  "nbformat_minor": 0,
  "metadata": {
    "colab": {
      "name": "ComParE2021_CCS_Biomarker1_final.ipynb",
      "provenance": [],
      "collapsed_sections": [],
      "include_colab_link": true
    },
    "kernelspec": {
      "display_name": "Python 3",
      "name": "python3"
    },
    "accelerator": "GPU"
  },
  "cells": [
    {
      "cell_type": "markdown",
      "metadata": {
        "id": "view-in-github",
        "colab_type": "text"
      },
      "source": [
        "<a href=\"https://colab.research.google.com/github/HrithikNambiar/COVID-19-Cough-Detection/blob/main/ComParE2021_CCS_Biomarker1_final.ipynb\" target=\"_parent\"><img src=\"https://colab.research.google.com/assets/colab-badge.svg\" alt=\"Open In Colab\"/></a>"
      ]
    },
    {
      "cell_type": "code",
      "metadata": {
        "colab": {
          "base_uri": "https://localhost:8080/"
        },
        "id": "vmLRwtEtXmBq",
        "outputId": "50e5715d-7a52-43e1-a4a9-9456a3e78037"
      },
      "source": [
        "import os\n",
        "import glob\n",
        "\n",
        "import librosa\n",
        "import librosa.display\n",
        "\n",
        "import numpy as np\n",
        "import pandas as pd\n",
        "\n",
        "from google.colab import drive\n",
        "drive.mount('/content/drive',force_remount=True)\n",
        "output_directory = '/content/drive/MyDrive'\n",
        "input_directory = '/content/drive/MyDrive//ComParE2021/data/train'\n",
        "csv_output_path=\"/content/drive/MyDrive/mfccunpadded.csv\"\n",
        "input_csv=\"/content/drive/MyDrive/ComParE2021/data/train.csv\"\n",
        "max=0\n",
        "mfccunpadded=[]\n",
        "fname=[]\n",
        " \n",
        " \n",
        "df = pd.read_csv(input_csv)\n",
        "\n",
        "for f in df['filename']:    \n",
        " x , sr = librosa.load(os.path.join(input_directory, f))\n",
        " if(x.shape[0]>max):\n",
        "  max=x.shape[0]\n",
        "# mfccs = librosa.feature.mfcc(x, sr=sr)\n",
        "# mfccs=np.array(mfccs)\n",
        "# mfccunpadded.append(mfccs)\n",
        " fname.append(f)\n",
        "# print(f)\n",
        "\n",
        "\n",
        "#final_df = pd.DataFrame({'filename': fname, 'mfcc':mfccunpadded})\n",
        "#final_df.to_csv(csv_output_path, index=False)\n",
        "#print(mfccunpadded.shape)\n",
        "mfccpadded=[]\n",
        "print(1)\n",
        "csv_output_path=\"/content/drive/MyDrive/mfccpadded.csv\"\n",
        " \n",
        "for f in df['filename']:    \n",
        " x , sr = librosa.load(os.path.join(input_directory, f))\n",
        " x = np.pad(x, (0,max - len(x)), \"constant\")\n",
        " mfccs = librosa.feature.mfcc(x, sr=sr)\n",
        " mfccs=np.array(mfccs)\n",
        " mfccpadded.append(mfccs)\n",
        "mfccpadded=np.array(mfccpadded)\n",
        "\n",
        "print(mfccpadded[0])\n",
        "#final_df = pd.DataFrame({'filename': fname, 'mfcc':mfccpadded})\n",
        "#final_df.to_csv(csv_output_path, index=False)"
      ],
      "execution_count": null,
      "outputs": [
        {
          "output_type": "stream",
          "text": [
            "Mounted at /content/drive\n",
            "1\n",
            "[[-351.39804   -344.02975   -346.3765    ... -787.84955   -787.84955\n",
            "  -787.84955  ]\n",
            " [  65.0043      69.64607     75.137436  ...    0.           0.\n",
            "     0.       ]\n",
            " [ -43.56997    -47.27554    -52.019073  ...    0.           0.\n",
            "     0.       ]\n",
            " ...\n",
            " [ -12.803314   -12.131676    -7.5781283 ...    0.           0.\n",
            "     0.       ]\n",
            " [   9.8125725    8.619486     6.1816616 ...    0.           0.\n",
            "     0.       ]\n",
            " [  -2.3630157   -5.283459    -4.4862757 ...    0.           0.\n",
            "     0.       ]]\n"
          ],
          "name": "stdout"
        }
      ]
    },
    {
      "cell_type": "code",
      "metadata": {
        "colab": {
          "base_uri": "https://localhost:8080/"
        },
        "id": "6XvP1gkVSOip",
        "outputId": "668403fc-6eaa-4ca8-ae7f-377d24d7ff66"
      },
      "source": [
        "import os\n",
        "import glob\n",
        "\n",
        "import librosa\n",
        "import librosa.display\n",
        "\n",
        "import numpy as np\n",
        "import pandas as pd\n",
        "\n",
        "from google.colab import drive\n",
        "drive.mount('/content/drive',force_remount=True)\n",
        "output_directory = '/content/drive/MyDrive'\n",
        "input_directory = '/content/drive/MyDrive/ComParE2021/data_2/test'\n",
        "\n",
        "input_csv=\"/content/drive/MyDrive/ComParE2021/data_2/val.csv\"\n",
        "\n",
        " \n",
        " \n",
        "df = pd.read_csv(input_csv)\n",
        "\n",
        "valmfccpadded=[]\n",
        "i=0\n",
        "for f in df['filename']:    \n",
        " x , sr = librosa.load(os.path.join(input_directory, f))\n",
        " x = np.pad(x, (0,max - len(x)), \"constant\")\n",
        " mfccs = librosa.feature.mfcc(x, sr=sr)\n",
        " mfccs=np.array(mfccs)\n",
        " valmfccpadded.append(mfccs)\n",
        "\n",
        "valmfccpadded=np.array(valmfccpadded)\n",
        "\n",
        "print(valmfccpadded[0])\n",
        "#final_df = pd.DataFrame({'filename': fname, 'mfcc':mfccpadded})\n",
        "#final_df.to_csv(csv_output_path, index=False)"
      ],
      "execution_count": null,
      "outputs": [
        {
          "output_type": "stream",
          "text": [
            "Mounted at /content/drive\n",
            "[[-4.9575681e+02 -4.8933411e+02 -4.9275375e+02 ... -6.3405914e+02\n",
            "  -6.3405914e+02 -6.3405914e+02]\n",
            " [ 8.9419540e+01  9.0896179e+01  9.0001045e+01 ...  0.0000000e+00\n",
            "   0.0000000e+00  0.0000000e+00]\n",
            " [ 4.6083444e-01 -3.4112825e+00 -1.4861749e+00 ...  0.0000000e+00\n",
            "   0.0000000e+00  0.0000000e+00]\n",
            " ...\n",
            " [-5.7824082e+00 -7.2711015e+00 -8.2637711e+00 ...  0.0000000e+00\n",
            "   0.0000000e+00  0.0000000e+00]\n",
            " [-3.3994069e+00 -4.4327254e+00 -5.6406960e+00 ...  0.0000000e+00\n",
            "   0.0000000e+00  0.0000000e+00]\n",
            " [-7.3684301e+00 -6.6424651e+00 -7.9831858e+00 ...  0.0000000e+00\n",
            "   0.0000000e+00  0.0000000e+00]]\n"
          ],
          "name": "stdout"
        }
      ]
    },
    {
      "cell_type": "markdown",
      "metadata": {
        "id": "UJCdRRfgjtfJ"
      },
      "source": [
        ""
      ]
    },
    {
      "cell_type": "code",
      "metadata": {
        "id": "bm7XPi2d7K5h"
      },
      "source": [
        "import os\n",
        "import glob\n",
        "\n",
        "import librosa\n",
        "import librosa.display\n",
        "\n",
        "import numpy as np\n",
        "import pandas as pd\n",
        "\n",
        "from google.colab import drive"
      ],
      "execution_count": null,
      "outputs": []
    },
    {
      "cell_type": "code",
      "metadata": {
        "colab": {
          "base_uri": "https://localhost:8080/"
        },
        "id": "1GO7M08Z7NXe",
        "outputId": "1f34c41f-0a75-4c62-bc23-2907a8336fda"
      },
      "source": [
        "drive.mount('/content/drive',force_remount=True)"
      ],
      "execution_count": null,
      "outputs": [
        {
          "output_type": "stream",
          "text": [
            "Mounted at /content/drive\n"
          ],
          "name": "stdout"
        }
      ]
    },
    {
      "cell_type": "markdown",
      "metadata": {
        "id": "1c_m7WavDEoC"
      },
      "source": [
        "Biomarker1\n"
      ]
    },
    {
      "cell_type": "code",
      "metadata": {
        "id": "j_Gay8CbBzEy"
      },
      "source": [
        "mfcc_b1=np.zeros_like(mfccpadded)\n",
        "for i in range(mfccpadded.shape[0]):\n",
        "    mfccpadded[i]=np.array(mfccpadded[i])\n",
        "    pos=mfccpadded[i][mfccpadded[i]>=0]\n",
        "    neg=mfccpadded[i][mfccpadded[i]<0]  \n",
        "    lambpos=np.mean(pos)\n",
        "    lambneg=np.mean(neg)     \n",
        "    for j in range(mfccpadded.shape[1]):\n",
        "      for k in range(mfccpadded.shape[2]):\n",
        "        if (mfccpadded[i][j][k]>=0):\n",
        "          mfcc_b1[i][j][k]=  mfccpadded[i][j][k]*np.random.poisson(lambpos,1)\n",
        "        else: \n",
        "          mfcc_b1[i][j][k]=  mfccpadded[i][j][k]*np.random.poisson(-lambneg,1)\n"
      ],
      "execution_count": null,
      "outputs": []
    },
    {
      "cell_type": "code",
      "metadata": {
        "id": "9jJPC-apb9-4"
      },
      "source": [
        "valmfcc_b1=np.zeros_like(valmfccpadded)\n",
        "for i in range(valmfccpadded.shape[0]):\n",
        "    valmfccpadded[i]=np.array(valmfccpadded[i])\n",
        "    pos=valmfccpadded[i][valmfccpadded[i]>=0]\n",
        "    neg=valmfccpadded[i][valmfccpadded[i]<0]  \n",
        "    lambpos=np.mean(pos)\n",
        "    lambneg=np.mean(neg)     \n",
        "    for j in range(valmfccpadded.shape[1]):\n",
        "      for k in range(valmfccpadded.shape[2]):\n",
        "        if (valmfccpadded[i][j][k]>=0):\n",
        "          valmfcc_b1[i][j][k]=  valmfccpadded[i][j][k]*np.random.poisson(lambpos,1)\n",
        "        else: \n",
        "          valmfcc_b1[i][j][k]=  valmfccpadded[i][j][k]*np.random.poisson(-lambneg,1)\n"
      ],
      "execution_count": null,
      "outputs": []
    },
    {
      "cell_type": "code",
      "metadata": {
        "id": "73EQJbKuDAX8"
      },
      "source": [
        "#IGNORE\n",
        "mfcc_b2=[]\n",
        "\n",
        "for i in range(len(mfccunpadded)):\n",
        "    mfcc_b2.append(np.zeros_like(mfccunpadded[i]) )\n",
        "    mfccunpadded[i]=np.array(mfccunpadded[i])\n",
        "    pos=mfccunpadded[i][mfccunpadded[i]>=0]\n",
        "    neg=mfccunpadded[i][mfccunpadded[i]<0]  \n",
        "    lambpos=np.mean(pos)\n",
        "    lambneg=np.mean(neg)     \n",
        "    for j in range(mfccunpadded[i].shape[0]):\n",
        "      for k in range(mfccunpadded[i].shape[1]):\n",
        "        if (mfccunpadded[i][j][k]>=0):\n",
        "          mfcc_b2[i][j][k]=  mfccunpadded[i][j][k]*np.random.poisson(lambpos,1)\n",
        "        else: \n",
        "          mfcc_b2[i][j][k]=  mfccunpadded[i][j][k]*np.random.poisson(-lambneg,1)\n"
      ],
      "execution_count": null,
      "outputs": []
    },
    {
      "cell_type": "code",
      "metadata": {
        "id": "_miUQg_ChqYh"
      },
      "source": [
        "import sys\n",
        "import numpy\n",
        "numpy.set_printoptions(threshold=sys.maxsize)"
      ],
      "execution_count": null,
      "outputs": []
    },
    {
      "cell_type": "code",
      "metadata": {
        "id": "w558a-BF5EQ6"
      },
      "source": [
        "#IGNORE\n",
        "csv_output_path=\"/content/drive/MyDrive/mfccpadded.csv\"\n",
        "mfcccsv=[]\n",
        "for i in range(mfccpadded.shape[0]):\n",
        "  mfcccsv.append(mfcc_b1[i])\n",
        "final_df = pd.DataFrame({'filename': fname, 'mfcc':mfcccsv})\n",
        "final_df.to_csv(csv_output_path, index=False)"
      ],
      "execution_count": null,
      "outputs": []
    },
    {
      "cell_type": "code",
      "metadata": {
        "id": "u24y687aF7mj"
      },
      "source": [
        "#IGNORE\n",
        "csv_output_path=\"/content/drive/MyDrive/mfccunpadded.csv\"\n",
        "final_df = pd.DataFrame({'filename': fname, 'mfcc':mfcc_b2})\n",
        "final_df.to_csv(csv_output_path, index=False)"
      ],
      "execution_count": null,
      "outputs": []
    },
    {
      "cell_type": "code",
      "metadata": {
        "colab": {
          "base_uri": "https://localhost:8080/"
        },
        "id": "vhtkS1MKBkzn",
        "outputId": "16db16aa-01ca-4cb5-cc42-28becc61c115"
      },
      "source": [
        "train_X=np.array(mfcc_b1,dtype=float)\n",
        "val_X=np.array(valmfcc_b1,dtype=float)\n",
        "\n",
        "input_csv=\"/content/drive/MyDrive/ComParE2021/data/train.csv\"\n",
        "df = pd.read_csv(input_csv)\n",
        "train_Y=np.array(df['label'])\n",
        "train_Y[train_Y=='positive']=1\n",
        "train_Y[train_Y=='negative']=0\n",
        "train_Y=np.array(train_Y,dtype=float)\n",
        "\n",
        "input_csv=\"/content/drive/MyDrive/ComParE2021/data_2/val.csv\"\n",
        "df = pd.read_csv(input_csv)\n",
        "val_Y=np.array(df['label'])\n",
        "val_Y[val_Y=='positive']=1\n",
        "val_Y[val_Y=='negative']=0\n",
        "val_Y=np.array(val_Y,dtype=float)\n",
        "print(train_Y.shape[0])\n",
        "\n",
        "from sklearn.preprocessing import StandardScaler\n",
        "scaler = StandardScaler()\n",
        "num_instances, num_time_steps, num_features = train_X.shape\n",
        "train_X = train_X.reshape(-1, num_features)\n",
        "train_X = scaler.fit_transform(train_X)\n",
        "num_instances_val, num_time_steps, num_features = val_X.shape\n",
        "val_X = val_X.reshape(-1, num_features)\n",
        "val_X = scaler.fit_transform(val_X)\n",
        "\n",
        "val_Y=val_Y.reshape(val_Y.shape[0],1)\n",
        "train_Y=train_Y.reshape(train_Y.shape[0],1)\n",
        "train_X=train_X.reshape(num_instances, num_time_steps, num_features,1)\n",
        "val_X=val_X.reshape(num_instances_val, num_time_steps, num_features,1)\n",
        "\n",
        "\n",
        "print(train_Y.shape)\n",
        "print(val_Y.shape)\n",
        "print(train_X.shape)\n",
        "print(val_X.shape)\n"
      ],
      "execution_count": null,
      "outputs": [
        {
          "output_type": "stream",
          "text": [
            "3304\n",
            "(3304, 1)\n",
            "(661, 1)\n",
            "(3304, 20, 597, 1)\n",
            "(661, 20, 597, 1)\n"
          ],
          "name": "stdout"
        }
      ]
    },
    {
      "cell_type": "markdown",
      "metadata": {
        "id": "-eW4FKUKBnQ5"
      },
      "source": [
        "MODEL 1 (RESNET50)"
      ]
    },
    {
      "cell_type": "code",
      "metadata": {
        "id": "hgcM78JBzpaG"
      },
      "source": [
        "import cv2\n",
        "import numpy as np\n",
        "import os\n",
        "\n",
        "import keras\n",
        "from keras.preprocessing.image import ImageDataGenerator\n",
        "from keras import backend as K\n",
        "\n",
        "from keras.models import Sequential, Model,load_model\n",
        "from keras.optimizers import SGD\n",
        "from keras.callbacks import EarlyStopping,ModelCheckpoint,ReduceLROnPlateau\n",
        "from google.colab.patches import cv2_imshow\n",
        "from keras.layers import Input, Add, Dense, Activation, ZeroPadding2D, BatchNormalization, Flatten, Conv2D, AveragePooling2D, MaxPooling2D, GlobalMaxPooling2D,MaxPool2D\n",
        "from keras.preprocessing import image\n",
        "from keras.initializers import glorot_uniform"
      ],
      "execution_count": null,
      "outputs": []
    },
    {
      "cell_type": "code",
      "metadata": {
        "id": "T5YU2XhByGqB"
      },
      "source": [
        "def identity_block(X, f, filters, stage, block):\n",
        "   \n",
        "    conv_name_base = 'res' + str(stage) + block + '_branch'\n",
        "    bn_name_base = 'bn' + str(stage) + block + '_branch'\n",
        "    F1, F2, F3 = filters\n",
        "\n",
        "    X_shortcut = X\n",
        "   \n",
        "    X = Conv2D(filters=F1, kernel_size=(1, 1), strides=(1, 1), padding='valid', name=conv_name_base + '2a', kernel_initializer=glorot_uniform(seed=0))(X)\n",
        "    X = BatchNormalization(axis=3, name=bn_name_base + '2a')(X)\n",
        "    X = Activation('relu')(X)\n",
        "\n",
        "    X = Conv2D(filters=F2, kernel_size=(f, f), strides=(1, 1), padding='same', name=conv_name_base + '2b', kernel_initializer=glorot_uniform(seed=0))(X)\n",
        "    X = BatchNormalization(axis=3, name=bn_name_base + '2b')(X)\n",
        "    X = Activation('relu')(X)\n",
        "\n",
        "    X = Conv2D(filters=F3, kernel_size=(1, 1), strides=(1, 1), padding='valid', name=conv_name_base + '2c', kernel_initializer=glorot_uniform(seed=0))(X)\n",
        "    X = BatchNormalization(axis=3, name=bn_name_base + '2c')(X)\n",
        "\n",
        "    X = Add()([X, X_shortcut])# SKIP Connection\n",
        "    X = Activation('relu')(X)\n",
        "\n",
        "    return X"
      ],
      "execution_count": null,
      "outputs": []
    },
    {
      "cell_type": "code",
      "metadata": {
        "id": "7HkhahzgyID1"
      },
      "source": [
        "def convolutional_block(X, f, filters, stage, block, s=2):\n",
        "   \n",
        "    conv_name_base = 'res' + str(stage) + block + '_branch'\n",
        "    bn_name_base = 'bn' + str(stage) + block + '_branch'\n",
        "\n",
        "    F1, F2, F3 = filters\n",
        "\n",
        "    X_shortcut = X\n",
        "\n",
        "    X = Conv2D(filters=F1, kernel_size=(1, 1), strides=(s, s), padding='valid', name=conv_name_base + '2a' , kernel_initializer=glorot_uniform(seed=0))(X)\n",
        "    X = BatchNormalization(axis=3, name=bn_name_base + '2a')(X)\n",
        "    X = Activation('relu')(X)\n",
        "\n",
        "    X = Conv2D(filters=F2, kernel_size=(f, f), strides=(1, 1), padding='same', name=conv_name_base + '2b', kernel_initializer=glorot_uniform(seed=0))(X)\n",
        "    X = BatchNormalization(axis=3, name=bn_name_base + '2b')(X)\n",
        "    X = Activation('relu')(X)\n",
        "\n",
        "    X = Conv2D(filters=F3, kernel_size=(1, 1), strides=(1, 1), padding='valid', name=conv_name_base + '2c', kernel_initializer=glorot_uniform(seed=0))(X)\n",
        "    X = BatchNormalization(axis=3, name=bn_name_base + '2c')(X)\n",
        "\n",
        "    X_shortcut = Conv2D(filters=F3, kernel_size=(1, 1), strides=(s, s), padding='valid', name=conv_name_base + '1', kernel_initializer=glorot_uniform(seed=0))(X_shortcut)\n",
        "    X_shortcut = BatchNormalization(axis=3, name=bn_name_base + '1')(X_shortcut)\n",
        "\n",
        "    X = Add()([X, X_shortcut])\n",
        "    X = Activation('relu')(X)\n",
        "\n",
        "    return X"
      ],
      "execution_count": null,
      "outputs": []
    },
    {
      "cell_type": "code",
      "metadata": {
        "id": "VAqbl8nbyMNN"
      },
      "source": [
        "def ResNet50(input_shape):\n",
        "\n",
        "    X_input = Input(input_shape)\n",
        "\n",
        "    X = ZeroPadding2D((3, 3))(X_input)\n",
        "\n",
        "    X = Conv2D(filters=64, kernel_size=(7, 7), strides=(2, 2), name='conv1', kernel_initializer=glorot_uniform(seed=0))(X)\n",
        "    X = BatchNormalization(axis=3, name='bn_conv1')(X)\n",
        "    X = Activation('relu')(X)\n",
        "    X = MaxPooling2D((3, 3), strides=(2, 2))(X)\n",
        "\n",
        "    X = convolutional_block(X, f=3, filters=[64, 64, 256], stage=2, block='a', s=1)\n",
        "    X = identity_block(X, 3, [64, 64, 256], stage=2, block='b')\n",
        "    X = identity_block(X, 3, [64, 64, 256], stage=2, block='c')\n",
        "\n",
        "\n",
        "    X = convolutional_block(X, f=3, filters=[128, 128, 512], stage=3, block='a', s=2)\n",
        "    X = identity_block(X, 3, [128, 128, 512], stage=3, block='b')\n",
        "    X = identity_block(X, 3, [128, 128, 512], stage=3, block='c')\n",
        "   # X = identity_block(X, 3, [128, 128, 512], stage=3, block='d')\n",
        "\n",
        "    X = convolutional_block(X, f=3, filters=[256, 256, 1024], stage=4, block='a', s=2)\n",
        "   # X = identity_block(X, 3, [256, 256, 1024], stage=4, block='b')\n",
        "    #X = identity_block(X, 3, [256, 256, 1024], stage=4, block='c')\n",
        "    X = identity_block(X, 3, [256, 256, 1024], stage=4, block='d')\n",
        "    X = identity_block(X, 3, [256, 256, 1024], stage=4, block='e')\n",
        "    X = identity_block(X, 3, [256, 256, 1024], stage=4, block='f')\n",
        "\n",
        "    X = X = convolutional_block(X, f=3, filters=[512, 512, 2048], stage=5, block='a', s=2)\n",
        "    X = identity_block(X, 3, [512, 512, 2048], stage=5, block='b')\n",
        "    X = identity_block(X, 3, [512, 512, 2048], stage=5, block='c')\n",
        "\n",
        "    X = AveragePooling2D(pool_size=(2, 2), padding='same')(X)\n",
        "    \n",
        "    model = Model(inputs=X_input, outputs=X, name='ResNet50')\n",
        "\n",
        "    return model"
      ],
      "execution_count": null,
      "outputs": []
    },
    {
      "cell_type": "code",
      "metadata": {
        "id": "oUxJuGOGiEPG"
      },
      "source": [
        "\n",
        "base_model = ResNet50(input_shape=[mfcc_b1.shape[1],mfcc_b1.shape[2],1])\n",
        "#base_model.load_weights(\"/content/drive/MyDrive/ComParE2021/resnet50_weights_tf_dim_ordering_tf_kernels_notop.h5\")\n"
      ],
      "execution_count": null,
      "outputs": []
    },
    {
      "cell_type": "code",
      "metadata": {
        "id": "eUrMZJZHrdTa"
      },
      "source": [
        "headModel = base_model.output\n",
        "headModel = Flatten()(headModel)\n",
        "headModel=Dense(256, activation='relu',kernel_initializer=glorot_uniform(seed=0))(headModel)\n",
        "headModel=Dense(128, activation='relu',kernel_initializer=glorot_uniform(seed=0))(headModel)\n",
        "headModel = Dense( 1,activation='sigmoid',kernel_initializer=glorot_uniform(seed=0))(headModel)"
      ],
      "execution_count": null,
      "outputs": []
    },
    {
      "cell_type": "code",
      "metadata": {
        "id": "tlYRRb4PiFr9"
      },
      "source": [
        "model = Model(inputs=base_model.input, outputs=headModel)\n",
        "\n",
        "model.summary()"
      ],
      "execution_count": null,
      "outputs": []
    },
    {
      "cell_type": "code",
      "metadata": {
        "id": "vZSRX5zew_3f"
      },
      "source": [
        "model.set_weights(weights)"
      ],
      "execution_count": null,
      "outputs": []
    },
    {
      "cell_type": "code",
      "metadata": {
        "id": "Awayw6RJlZ0K"
      },
      "source": [
        " \n",
        "import tensorflow as tf\n",
        "def focal_loss(gamma=2., alpha=.25):\n",
        "\tdef focal_loss_fixed(y_true, y_pred):\n",
        "\t\tpt_1 = tf.where(tf.equal(y_true, 1), y_pred, tf.ones_like(y_pred))\n",
        "\t\tpt_0 = tf.where(tf.equal(y_true, 0), y_pred, tf.zeros_like(y_pred))\n",
        "\t\treturn -K.mean(alpha * K.pow(1. - pt_1, gamma) * K.log(pt_1)) - K.mean((1 - alpha) * K.pow(pt_0, gamma) * K.log(1. - pt_0))\n",
        "\treturn focal_loss_fixed\n",
        "from sklearn.utils import class_weight\n",
        "class_weights = class_weight.compute_class_weight('balanced',\n",
        "                                                 np.unique(train_Y.reshape(train_Y.shape[0])),\n",
        "                                                 train_Y.reshape(train_Y.shape[0]))\n",
        "class_weights[0]=0.8\n",
        "class_weights[0]=1.5\n",
        "class_weight_dict = dict(enumerate(class_weights))\n",
        "\n",
        "model.compile(loss='binary_crossentropy', optimizer='sgd', metrics=['accuracy', keras.metrics.Precision(), keras.metrics.Recall(),keras.metrics.AUC()])\n",
        "weights1 = model.get_weights()\n",
        "#val_Y=np.reshape(val_Y.shape[0],1)"
      ],
      "execution_count": null,
      "outputs": []
    },
    {
      "cell_type": "code",
      "metadata": {
        "colab": {
          "base_uri": "https://localhost:8080/"
        },
        "id": "LQ7C-u2ONdNO",
        "outputId": "abb05709-24e2-402e-8ced-9b86c8982033"
      },
      "source": [
        "print(class_weights)"
      ],
      "execution_count": null,
      "outputs": [
        {
          "output_type": "stream",
          "text": [
            "[0.66398714 2.0245098 ]\n"
          ],
          "name": "stdout"
        }
      ]
    },
    {
      "cell_type": "code",
      "metadata": {
        "colab": {
          "base_uri": "https://localhost:8080/"
        },
        "id": "4OdyBW0XiHjt",
        "outputId": "c99a6156-bfd7-4a34-eea2-86c7f01280e7"
      },
      "source": [
        "reduce_lr = ReduceLROnPlateau(monitor='val_loss', factor=0.0002,\n",
        "                              patience=3, min_lr=0.000001)\n",
        "from tensorflow.keras.utils import Sequence\n",
        "batch_size=30\n",
        "\n",
        "#val_Y=np.reshape(val_Y.shape[0],1)\n",
        "#val_X=np.reshape(val_X.shape[0],1)\n",
        "\n",
        "history = model.fit(train_X,train_Y,\n",
        "                                validation_data=(val_X,val_Y),\n",
        "                                epochs=100,\n",
        "                                verbose=2, \n",
        "                                #callbacks = [es],\n",
        "                                callbacks=[reduce_lr],\n",
        "                    class_weight=class_weight_dict\n",
        "                    )\n",
        "                                "
      ],
      "execution_count": null,
      "outputs": [
        {
          "output_type": "stream",
          "text": [
            "Epoch 1/100\n",
            "104/104 - 14s - loss: 0.8831 - accuracy: 0.7551 - precision_34: 0.5068 - recall_34: 0.3174 - auc_8: 0.7324 - val_loss: 0.4946 - val_accuracy: 0.8124 - val_precision_34: 0.0000e+00 - val_recall_34: 0.0000e+00 - val_auc_8: 0.5000\n",
            "Epoch 2/100\n",
            "104/104 - 9s - loss: 0.8448 - accuracy: 0.7476 - precision_34: 0.4855 - recall_34: 0.3701 - auc_8: 0.7576 - val_loss: 0.8583 - val_accuracy: 0.1876 - val_precision_34: 0.1876 - val_recall_34: 1.0000 - val_auc_8: 0.5000\n",
            "Epoch 3/100\n",
            "104/104 - 10s - loss: 0.8031 - accuracy: 0.7760 - precision_34: 0.5623 - recall_34: 0.4203 - auc_8: 0.7895 - val_loss: 0.9828 - val_accuracy: 0.1876 - val_precision_34: 0.1876 - val_recall_34: 1.0000 - val_auc_8: 0.5000\n",
            "Epoch 4/100\n",
            "104/104 - 10s - loss: 0.7700 - accuracy: 0.7854 - precision_34: 0.5822 - recall_34: 0.4645 - auc_8: 0.8105 - val_loss: 1.1698 - val_accuracy: 0.1876 - val_precision_34: 0.1876 - val_recall_34: 1.0000 - val_auc_8: 0.5000\n",
            "Epoch 5/100\n",
            "104/104 - 10s - loss: 0.7161 - accuracy: 0.8163 - precision_34: 0.7402 - recall_34: 0.3946 - auc_8: 0.8483 - val_loss: 1.1978 - val_accuracy: 0.1876 - val_precision_34: 0.1876 - val_recall_34: 1.0000 - val_auc_8: 0.5000\n",
            "Epoch 6/100\n",
            "104/104 - 10s - loss: 0.7248 - accuracy: 0.8145 - precision_34: 0.7344 - recall_34: 0.3897 - auc_8: 0.8447 - val_loss: 0.9426 - val_accuracy: 0.1876 - val_precision_34: 0.1876 - val_recall_34: 1.0000 - val_auc_8: 0.5000\n",
            "Epoch 7/100\n",
            "104/104 - 9s - loss: 0.7264 - accuracy: 0.8114 - precision_34: 0.7178 - recall_34: 0.3897 - auc_8: 0.8452 - val_loss: 0.8433 - val_accuracy: 0.1876 - val_precision_34: 0.1876 - val_recall_34: 1.0000 - val_auc_8: 0.4966\n",
            "Epoch 8/100\n",
            "104/104 - 9s - loss: 0.7089 - accuracy: 0.8190 - precision_34: 0.7380 - recall_34: 0.4142 - auc_8: 0.8512 - val_loss: 0.8449 - val_accuracy: 0.1876 - val_precision_34: 0.1876 - val_recall_34: 1.0000 - val_auc_8: 0.5685\n",
            "Epoch 9/100\n",
            "104/104 - 9s - loss: 0.7050 - accuracy: 0.8199 - precision_34: 0.7439 - recall_34: 0.4130 - auc_8: 0.8545 - val_loss: 0.8542 - val_accuracy: 0.1876 - val_precision_34: 0.1876 - val_recall_34: 1.0000 - val_auc_8: 0.4691\n",
            "Epoch 10/100\n",
            "104/104 - 9s - loss: 0.7096 - accuracy: 0.8181 - precision_34: 0.7363 - recall_34: 0.4105 - auc_8: 0.8518 - val_loss: 0.8648 - val_accuracy: 0.1876 - val_precision_34: 0.1876 - val_recall_34: 1.0000 - val_auc_8: 0.4569\n",
            "Epoch 11/100\n",
            "104/104 - 9s - loss: 0.7072 - accuracy: 0.8205 - precision_34: 0.7451 - recall_34: 0.4154 - auc_8: 0.8502 - val_loss: 0.8617 - val_accuracy: 0.1876 - val_precision_34: 0.1876 - val_recall_34: 1.0000 - val_auc_8: 0.4473\n",
            "Epoch 12/100\n",
            "104/104 - 9s - loss: 0.7240 - accuracy: 0.8133 - precision_34: 0.7206 - recall_34: 0.3983 - auc_8: 0.8442 - val_loss: 0.8580 - val_accuracy: 0.1876 - val_precision_34: 0.1876 - val_recall_34: 1.0000 - val_auc_8: 0.4220\n",
            "Epoch 13/100\n",
            "104/104 - 10s - loss: 0.7174 - accuracy: 0.8184 - precision_34: 0.7400 - recall_34: 0.4081 - auc_8: 0.8472 - val_loss: 0.8768 - val_accuracy: 0.1876 - val_precision_34: 0.1876 - val_recall_34: 1.0000 - val_auc_8: 0.4892\n",
            "Epoch 14/100\n",
            "104/104 - 9s - loss: 0.7123 - accuracy: 0.8190 - precision_34: 0.7370 - recall_34: 0.4154 - auc_8: 0.8489 - val_loss: 0.8853 - val_accuracy: 0.1876 - val_precision_34: 0.1876 - val_recall_34: 1.0000 - val_auc_8: 0.4861\n",
            "Epoch 15/100\n",
            "104/104 - 9s - loss: 0.7092 - accuracy: 0.8175 - precision_34: 0.7281 - recall_34: 0.4167 - auc_8: 0.8512 - val_loss: 0.9109 - val_accuracy: 0.1876 - val_precision_34: 0.1876 - val_recall_34: 1.0000 - val_auc_8: 0.5796\n",
            "Epoch 16/100\n",
            "104/104 - 9s - loss: 0.7059 - accuracy: 0.8211 - precision_34: 0.7451 - recall_34: 0.4191 - auc_8: 0.8517 - val_loss: 0.8876 - val_accuracy: 0.1876 - val_precision_34: 0.1876 - val_recall_34: 1.0000 - val_auc_8: 0.5986\n",
            "Epoch 17/100\n",
            "104/104 - 9s - loss: 0.7066 - accuracy: 0.8127 - precision_34: 0.7155 - recall_34: 0.4007 - auc_8: 0.8530 - val_loss: 0.9050 - val_accuracy: 0.2103 - val_precision_34: 0.1910 - val_recall_34: 0.9919 - val_auc_8: 0.6162\n",
            "Epoch 18/100\n",
            "104/104 - 9s - loss: 0.7057 - accuracy: 0.8169 - precision_34: 0.7221 - recall_34: 0.4203 - auc_8: 0.8512 - val_loss: 0.9535 - val_accuracy: 0.1952 - val_precision_34: 0.1881 - val_recall_34: 0.9919 - val_auc_8: 0.5620\n",
            "Epoch 19/100\n",
            "104/104 - 10s - loss: 0.7162 - accuracy: 0.8172 - precision_34: 0.7314 - recall_34: 0.4105 - auc_8: 0.8451 - val_loss: 1.1028 - val_accuracy: 0.2073 - val_precision_34: 0.1904 - val_recall_34: 0.9919 - val_auc_8: 0.4769\n",
            "Epoch 20/100\n",
            "104/104 - 10s - loss: 0.7038 - accuracy: 0.8184 - precision_34: 0.7358 - recall_34: 0.4130 - auc_8: 0.8529 - val_loss: 1.2514 - val_accuracy: 0.2315 - val_precision_34: 0.1800 - val_recall_34: 0.8710 - val_auc_8: 0.4044\n",
            "Epoch 21/100\n",
            "104/104 - 10s - loss: 0.7121 - accuracy: 0.8166 - precision_34: 0.7293 - recall_34: 0.4093 - auc_8: 0.8496 - val_loss: 1.0353 - val_accuracy: 0.3797 - val_precision_34: 0.1627 - val_recall_34: 0.5565 - val_auc_8: 0.4617\n",
            "Epoch 22/100\n",
            "104/104 - 10s - loss: 0.7036 - accuracy: 0.8211 - precision_34: 0.7494 - recall_34: 0.4142 - auc_8: 0.8543 - val_loss: 0.8002 - val_accuracy: 0.5703 - val_precision_34: 0.1825 - val_recall_34: 0.3710 - val_auc_8: 0.4786\n",
            "Epoch 23/100\n",
            "104/104 - 10s - loss: 0.7043 - accuracy: 0.8172 - precision_34: 0.7335 - recall_34: 0.4081 - auc_8: 0.8518 - val_loss: 0.7054 - val_accuracy: 0.6944 - val_precision_34: 0.2365 - val_recall_34: 0.2823 - val_auc_8: 0.4906\n",
            "Epoch 24/100\n",
            "104/104 - 10s - loss: 0.7016 - accuracy: 0.8211 - precision_34: 0.7473 - recall_34: 0.4167 - auc_8: 0.8546 - val_loss: 0.6821 - val_accuracy: 0.7065 - val_precision_34: 0.2388 - val_recall_34: 0.2581 - val_auc_8: 0.4971\n",
            "Epoch 25/100\n",
            "104/104 - 10s - loss: 0.7062 - accuracy: 0.8114 - precision_34: 0.7084 - recall_34: 0.4020 - auc_8: 0.8553 - val_loss: 0.6715 - val_accuracy: 0.7080 - val_precision_34: 0.2283 - val_recall_34: 0.2339 - val_auc_8: 0.4998\n",
            "Epoch 26/100\n",
            "104/104 - 10s - loss: 0.7056 - accuracy: 0.8151 - precision_34: 0.7195 - recall_34: 0.4118 - auc_8: 0.8515 - val_loss: 0.6702 - val_accuracy: 0.7110 - val_precision_34: 0.2320 - val_recall_34: 0.2339 - val_auc_8: 0.5014\n",
            "Epoch 27/100\n",
            "104/104 - 10s - loss: 0.7024 - accuracy: 0.8248 - precision_34: 0.7527 - recall_34: 0.4326 - auc_8: 0.8513 - val_loss: 0.6701 - val_accuracy: 0.7095 - val_precision_34: 0.2302 - val_recall_34: 0.2339 - val_auc_8: 0.5012\n",
            "Epoch 28/100\n",
            "104/104 - 10s - loss: 0.7101 - accuracy: 0.8154 - precision_34: 0.7269 - recall_34: 0.4044 - auc_8: 0.8486 - val_loss: 0.6663 - val_accuracy: 0.7141 - val_precision_34: 0.2314 - val_recall_34: 0.2258 - val_auc_8: 0.5018\n",
            "Epoch 29/100\n",
            "104/104 - 9s - loss: 0.7160 - accuracy: 0.8145 - precision_34: 0.7173 - recall_34: 0.4105 - auc_8: 0.8467 - val_loss: 0.6665 - val_accuracy: 0.7110 - val_precision_34: 0.2276 - val_recall_34: 0.2258 - val_auc_8: 0.5028\n",
            "Epoch 30/100\n",
            "104/104 - 10s - loss: 0.7084 - accuracy: 0.8154 - precision_34: 0.7173 - recall_34: 0.4167 - auc_8: 0.8512 - val_loss: 0.6680 - val_accuracy: 0.7095 - val_precision_34: 0.2258 - val_recall_34: 0.2258 - val_auc_8: 0.5017\n",
            "Epoch 31/100\n",
            "104/104 - 9s - loss: 0.7092 - accuracy: 0.8148 - precision_34: 0.7287 - recall_34: 0.3983 - auc_8: 0.8509 - val_loss: 0.6687 - val_accuracy: 0.7110 - val_precision_34: 0.2320 - val_recall_34: 0.2339 - val_auc_8: 0.5019\n",
            "Epoch 32/100\n",
            "104/104 - 9s - loss: 0.7009 - accuracy: 0.8190 - precision_34: 0.7370 - recall_34: 0.4154 - auc_8: 0.8531 - val_loss: 0.6643 - val_accuracy: 0.7156 - val_precision_34: 0.2333 - val_recall_34: 0.2258 - val_auc_8: 0.5032\n",
            "Epoch 33/100\n",
            "104/104 - 9s - loss: 0.7180 - accuracy: 0.8139 - precision_34: 0.7199 - recall_34: 0.4032 - auc_8: 0.8452 - val_loss: 0.6659 - val_accuracy: 0.7156 - val_precision_34: 0.2377 - val_recall_34: 0.2339 - val_auc_8: 0.5028\n",
            "Epoch 34/100\n",
            "104/104 - 9s - loss: 0.7115 - accuracy: 0.8160 - precision_34: 0.7291 - recall_34: 0.4056 - auc_8: 0.8503 - val_loss: 0.6705 - val_accuracy: 0.7095 - val_precision_34: 0.2302 - val_recall_34: 0.2339 - val_auc_8: 0.5014\n",
            "Epoch 35/100\n",
            "104/104 - 9s - loss: 0.7072 - accuracy: 0.8166 - precision_34: 0.7263 - recall_34: 0.4130 - auc_8: 0.8495 - val_loss: 0.6714 - val_accuracy: 0.7095 - val_precision_34: 0.2302 - val_recall_34: 0.2339 - val_auc_8: 0.5005\n",
            "Epoch 36/100\n",
            "104/104 - 9s - loss: 0.6945 - accuracy: 0.8208 - precision_34: 0.7393 - recall_34: 0.4240 - auc_8: 0.8574 - val_loss: 0.6741 - val_accuracy: 0.7095 - val_precision_34: 0.2302 - val_recall_34: 0.2339 - val_auc_8: 0.5012\n",
            "Epoch 37/100\n",
            "104/104 - 9s - loss: 0.7127 - accuracy: 0.8163 - precision_34: 0.7228 - recall_34: 0.4154 - auc_8: 0.8465 - val_loss: 0.6686 - val_accuracy: 0.7095 - val_precision_34: 0.2302 - val_recall_34: 0.2339 - val_auc_8: 0.5022\n",
            "Epoch 38/100\n",
            "104/104 - 9s - loss: 0.7051 - accuracy: 0.8184 - precision_34: 0.7278 - recall_34: 0.4228 - auc_8: 0.8535 - val_loss: 0.6681 - val_accuracy: 0.7110 - val_precision_34: 0.2320 - val_recall_34: 0.2339 - val_auc_8: 0.5022\n",
            "Epoch 39/100\n",
            "104/104 - 9s - loss: 0.7143 - accuracy: 0.8196 - precision_34: 0.7412 - recall_34: 0.4142 - auc_8: 0.8464 - val_loss: 0.6702 - val_accuracy: 0.7095 - val_precision_34: 0.2302 - val_recall_34: 0.2339 - val_auc_8: 0.5017\n",
            "Epoch 40/100\n",
            "104/104 - 9s - loss: 0.7054 - accuracy: 0.8190 - precision_34: 0.7329 - recall_34: 0.4203 - auc_8: 0.8511 - val_loss: 0.6713 - val_accuracy: 0.7110 - val_precision_34: 0.2320 - val_recall_34: 0.2339 - val_auc_8: 0.5017\n",
            "Epoch 41/100\n",
            "104/104 - 10s - loss: 0.7049 - accuracy: 0.8184 - precision_34: 0.7348 - recall_34: 0.4142 - auc_8: 0.8503 - val_loss: 0.6739 - val_accuracy: 0.7080 - val_precision_34: 0.2283 - val_recall_34: 0.2339 - val_auc_8: 0.5012\n",
            "Epoch 42/100\n",
            "104/104 - 9s - loss: 0.7042 - accuracy: 0.8223 - precision_34: 0.7411 - recall_34: 0.4314 - auc_8: 0.8513 - val_loss: 0.6736 - val_accuracy: 0.7110 - val_precision_34: 0.2320 - val_recall_34: 0.2339 - val_auc_8: 0.5018\n",
            "Epoch 43/100\n",
            "104/104 - 9s - loss: 0.7012 - accuracy: 0.8181 - precision_34: 0.7312 - recall_34: 0.4167 - auc_8: 0.8527 - val_loss: 0.6692 - val_accuracy: 0.7126 - val_precision_34: 0.2339 - val_recall_34: 0.2339 - val_auc_8: 0.5023\n",
            "Epoch 44/100\n",
            "104/104 - 9s - loss: 0.7052 - accuracy: 0.8172 - precision_34: 0.7294 - recall_34: 0.4130 - auc_8: 0.8498 - val_loss: 0.6718 - val_accuracy: 0.7095 - val_precision_34: 0.2302 - val_recall_34: 0.2339 - val_auc_8: 0.5027\n",
            "Epoch 45/100\n",
            "104/104 - 9s - loss: 0.7053 - accuracy: 0.8151 - precision_34: 0.7186 - recall_34: 0.4130 - auc_8: 0.8514 - val_loss: 0.6732 - val_accuracy: 0.7080 - val_precision_34: 0.2283 - val_recall_34: 0.2339 - val_auc_8: 0.5015\n",
            "Epoch 46/100\n",
            "104/104 - 9s - loss: 0.6981 - accuracy: 0.8211 - precision_34: 0.7378 - recall_34: 0.4277 - auc_8: 0.8535 - val_loss: 0.6703 - val_accuracy: 0.7095 - val_precision_34: 0.2302 - val_recall_34: 0.2339 - val_auc_8: 0.5024\n",
            "Epoch 47/100\n",
            "104/104 - 9s - loss: 0.7028 - accuracy: 0.8175 - precision_34: 0.7290 - recall_34: 0.4154 - auc_8: 0.8518 - val_loss: 0.6721 - val_accuracy: 0.7095 - val_precision_34: 0.2302 - val_recall_34: 0.2339 - val_auc_8: 0.5011\n",
            "Epoch 48/100\n",
            "104/104 - 9s - loss: 0.7047 - accuracy: 0.8145 - precision_34: 0.7202 - recall_34: 0.4069 - auc_8: 0.8499 - val_loss: 0.6717 - val_accuracy: 0.7126 - val_precision_34: 0.2339 - val_recall_34: 0.2339 - val_auc_8: 0.5017\n",
            "Epoch 49/100\n",
            "104/104 - 10s - loss: 0.7168 - accuracy: 0.8130 - precision_34: 0.7115 - recall_34: 0.4081 - auc_8: 0.8465 - val_loss: 0.6725 - val_accuracy: 0.7141 - val_precision_34: 0.2400 - val_recall_34: 0.2419 - val_auc_8: 0.5023\n",
            "Epoch 50/100\n",
            "104/104 - 9s - loss: 0.6975 - accuracy: 0.8196 - precision_34: 0.7381 - recall_34: 0.4179 - auc_8: 0.8542 - val_loss: 0.6726 - val_accuracy: 0.7126 - val_precision_34: 0.2339 - val_recall_34: 0.2339 - val_auc_8: 0.5018\n",
            "Epoch 51/100\n",
            "104/104 - 10s - loss: 0.6956 - accuracy: 0.8202 - precision_34: 0.7322 - recall_34: 0.4289 - auc_8: 0.8569 - val_loss: 0.6702 - val_accuracy: 0.7126 - val_precision_34: 0.2339 - val_recall_34: 0.2339 - val_auc_8: 0.5028\n",
            "Epoch 52/100\n",
            "104/104 - 9s - loss: 0.6951 - accuracy: 0.8214 - precision_34: 0.7415 - recall_34: 0.4252 - auc_8: 0.8574 - val_loss: 0.6706 - val_accuracy: 0.7110 - val_precision_34: 0.2320 - val_recall_34: 0.2339 - val_auc_8: 0.5032\n",
            "Epoch 53/100\n",
            "104/104 - 9s - loss: 0.6978 - accuracy: 0.8172 - precision_34: 0.7366 - recall_34: 0.4044 - auc_8: 0.8546 - val_loss: 0.6703 - val_accuracy: 0.7095 - val_precision_34: 0.2302 - val_recall_34: 0.2339 - val_auc_8: 0.5023\n",
            "Epoch 54/100\n",
            "104/104 - 9s - loss: 0.7068 - accuracy: 0.8151 - precision_34: 0.7176 - recall_34: 0.4142 - auc_8: 0.8497 - val_loss: 0.6727 - val_accuracy: 0.7095 - val_precision_34: 0.2302 - val_recall_34: 0.2339 - val_auc_8: 0.5022\n",
            "Epoch 55/100\n",
            "104/104 - 9s - loss: 0.7010 - accuracy: 0.8190 - precision_34: 0.7339 - recall_34: 0.4191 - auc_8: 0.8520 - val_loss: 0.6704 - val_accuracy: 0.7126 - val_precision_34: 0.2381 - val_recall_34: 0.2419 - val_auc_8: 0.5034\n",
            "Epoch 56/100\n",
            "104/104 - 9s - loss: 0.7089 - accuracy: 0.8163 - precision_34: 0.7247 - recall_34: 0.4130 - auc_8: 0.8496 - val_loss: 0.6707 - val_accuracy: 0.7156 - val_precision_34: 0.2460 - val_recall_34: 0.2500 - val_auc_8: 0.5038\n",
            "Epoch 57/100\n",
            "104/104 - 9s - loss: 0.7048 - accuracy: 0.8196 - precision_34: 0.7282 - recall_34: 0.4301 - auc_8: 0.8508 - val_loss: 0.6721 - val_accuracy: 0.7110 - val_precision_34: 0.2320 - val_recall_34: 0.2339 - val_auc_8: 0.5031\n",
            "Epoch 58/100\n",
            "104/104 - 9s - loss: 0.7118 - accuracy: 0.8169 - precision_34: 0.7193 - recall_34: 0.4240 - auc_8: 0.8478 - val_loss: 0.6732 - val_accuracy: 0.7080 - val_precision_34: 0.2283 - val_recall_34: 0.2339 - val_auc_8: 0.5024\n",
            "Epoch 59/100\n",
            "104/104 - 9s - loss: 0.6941 - accuracy: 0.8172 - precision_34: 0.7172 - recall_34: 0.4289 - auc_8: 0.8547 - val_loss: 0.6716 - val_accuracy: 0.7080 - val_precision_34: 0.2283 - val_recall_34: 0.2339 - val_auc_8: 0.5036\n",
            "Epoch 60/100\n",
            "104/104 - 9s - loss: 0.7075 - accuracy: 0.8184 - precision_34: 0.7318 - recall_34: 0.4179 - auc_8: 0.8483 - val_loss: 0.6776 - val_accuracy: 0.7110 - val_precision_34: 0.2362 - val_recall_34: 0.2419 - val_auc_8: 0.5019\n",
            "Epoch 61/100\n",
            "104/104 - 10s - loss: 0.6989 - accuracy: 0.8196 - precision_34: 0.7254 - recall_34: 0.4338 - auc_8: 0.8531 - val_loss: 0.6757 - val_accuracy: 0.7110 - val_precision_34: 0.2362 - val_recall_34: 0.2419 - val_auc_8: 0.5020\n",
            "Epoch 62/100\n",
            "104/104 - 9s - loss: 0.6933 - accuracy: 0.8163 - precision_34: 0.7228 - recall_34: 0.4154 - auc_8: 0.8575 - val_loss: 0.6722 - val_accuracy: 0.7095 - val_precision_34: 0.2302 - val_recall_34: 0.2339 - val_auc_8: 0.5031\n",
            "Epoch 63/100\n",
            "104/104 - 9s - loss: 0.7089 - accuracy: 0.8145 - precision_34: 0.7101 - recall_34: 0.4203 - auc_8: 0.8496 - val_loss: 0.6751 - val_accuracy: 0.7095 - val_precision_34: 0.2302 - val_recall_34: 0.2339 - val_auc_8: 0.5020\n",
            "Epoch 64/100\n",
            "104/104 - 9s - loss: 0.6884 - accuracy: 0.8208 - precision_34: 0.7314 - recall_34: 0.4338 - auc_8: 0.8566 - val_loss: 0.6757 - val_accuracy: 0.7110 - val_precision_34: 0.2320 - val_recall_34: 0.2339 - val_auc_8: 0.5019\n",
            "Epoch 65/100\n",
            "104/104 - 9s - loss: 0.6892 - accuracy: 0.8208 - precision_34: 0.7324 - recall_34: 0.4326 - auc_8: 0.8572 - val_loss: 0.6733 - val_accuracy: 0.7126 - val_precision_34: 0.2381 - val_recall_34: 0.2419 - val_auc_8: 0.5028\n",
            "Epoch 66/100\n",
            "104/104 - 10s - loss: 0.6907 - accuracy: 0.8208 - precision_34: 0.7363 - recall_34: 0.4277 - auc_8: 0.8572 - val_loss: 0.6738 - val_accuracy: 0.7110 - val_precision_34: 0.2362 - val_recall_34: 0.2419 - val_auc_8: 0.5026\n",
            "Epoch 67/100\n",
            "104/104 - 9s - loss: 0.7006 - accuracy: 0.8187 - precision_34: 0.7228 - recall_34: 0.4314 - auc_8: 0.8521 - val_loss: 0.6750 - val_accuracy: 0.7110 - val_precision_34: 0.2362 - val_recall_34: 0.2419 - val_auc_8: 0.5019\n",
            "Epoch 68/100\n",
            "104/104 - 9s - loss: 0.7083 - accuracy: 0.8169 - precision_34: 0.7289 - recall_34: 0.4118 - auc_8: 0.8487 - val_loss: 0.6757 - val_accuracy: 0.7110 - val_precision_34: 0.2362 - val_recall_34: 0.2419 - val_auc_8: 0.5021\n",
            "Epoch 69/100\n",
            "104/104 - 10s - loss: 0.6879 - accuracy: 0.8199 - precision_34: 0.7297 - recall_34: 0.4301 - auc_8: 0.8591 - val_loss: 0.6742 - val_accuracy: 0.7095 - val_precision_34: 0.2302 - val_recall_34: 0.2339 - val_auc_8: 0.5029\n",
            "Epoch 70/100\n",
            "104/104 - 9s - loss: 0.7031 - accuracy: 0.8217 - precision_34: 0.7430 - recall_34: 0.4252 - auc_8: 0.8504 - val_loss: 0.6765 - val_accuracy: 0.7126 - val_precision_34: 0.2381 - val_recall_34: 0.2419 - val_auc_8: 0.5033\n",
            "Epoch 71/100\n",
            "104/104 - 9s - loss: 0.6837 - accuracy: 0.8196 - precision_34: 0.7301 - recall_34: 0.4277 - auc_8: 0.8596 - val_loss: 0.6780 - val_accuracy: 0.7110 - val_precision_34: 0.2362 - val_recall_34: 0.2419 - val_auc_8: 0.5021\n",
            "Epoch 72/100\n",
            "104/104 - 9s - loss: 0.6965 - accuracy: 0.8199 - precision_34: 0.7297 - recall_34: 0.4301 - auc_8: 0.8555 - val_loss: 0.6787 - val_accuracy: 0.7141 - val_precision_34: 0.2441 - val_recall_34: 0.2500 - val_auc_8: 0.5023\n",
            "Epoch 73/100\n",
            "104/104 - 10s - loss: 0.6937 - accuracy: 0.8154 - precision_34: 0.7164 - recall_34: 0.4179 - auc_8: 0.8558 - val_loss: 0.6703 - val_accuracy: 0.7126 - val_precision_34: 0.2381 - val_recall_34: 0.2419 - val_auc_8: 0.5048\n",
            "Epoch 74/100\n",
            "104/104 - 9s - loss: 0.6890 - accuracy: 0.8217 - precision_34: 0.7360 - recall_34: 0.4338 - auc_8: 0.8580 - val_loss: 0.6760 - val_accuracy: 0.7126 - val_precision_34: 0.2422 - val_recall_34: 0.2500 - val_auc_8: 0.5037\n",
            "Epoch 75/100\n",
            "104/104 - 10s - loss: 0.6962 - accuracy: 0.8232 - precision_34: 0.7348 - recall_34: 0.4449 - auc_8: 0.8540 - val_loss: 0.6756 - val_accuracy: 0.7126 - val_precision_34: 0.2381 - val_recall_34: 0.2419 - val_auc_8: 0.5032\n",
            "Epoch 76/100\n",
            "104/104 - 9s - loss: 0.6965 - accuracy: 0.8235 - precision_34: 0.7392 - recall_34: 0.4412 - auc_8: 0.8520 - val_loss: 0.6730 - val_accuracy: 0.7156 - val_precision_34: 0.2500 - val_recall_34: 0.2581 - val_auc_8: 0.5043\n",
            "Epoch 77/100\n",
            "104/104 - 9s - loss: 0.6998 - accuracy: 0.8184 - precision_34: 0.7186 - recall_34: 0.4350 - auc_8: 0.8512 - val_loss: 0.6728 - val_accuracy: 0.7141 - val_precision_34: 0.2441 - val_recall_34: 0.2500 - val_auc_8: 0.5039\n",
            "Epoch 78/100\n",
            "104/104 - 9s - loss: 0.6869 - accuracy: 0.8214 - precision_34: 0.7325 - recall_34: 0.4363 - auc_8: 0.8570 - val_loss: 0.6738 - val_accuracy: 0.7156 - val_precision_34: 0.2500 - val_recall_34: 0.2581 - val_auc_8: 0.5034\n",
            "Epoch 79/100\n",
            "104/104 - 10s - loss: 0.6969 - accuracy: 0.8251 - precision_34: 0.7399 - recall_34: 0.4498 - auc_8: 0.8543 - val_loss: 0.6749 - val_accuracy: 0.7126 - val_precision_34: 0.2422 - val_recall_34: 0.2500 - val_auc_8: 0.5031\n",
            "Epoch 80/100\n",
            "104/104 - 10s - loss: 0.6997 - accuracy: 0.8142 - precision_34: 0.7177 - recall_34: 0.4081 - auc_8: 0.8543 - val_loss: 0.6751 - val_accuracy: 0.7141 - val_precision_34: 0.2481 - val_recall_34: 0.2581 - val_auc_8: 0.5040\n",
            "Epoch 81/100\n",
            "104/104 - 9s - loss: 0.6960 - accuracy: 0.8202 - precision_34: 0.7265 - recall_34: 0.4363 - auc_8: 0.8529 - val_loss: 0.6741 - val_accuracy: 0.7141 - val_precision_34: 0.2441 - val_recall_34: 0.2500 - val_auc_8: 0.5040\n",
            "Epoch 82/100\n",
            "104/104 - 10s - loss: 0.6909 - accuracy: 0.8211 - precision_34: 0.7368 - recall_34: 0.4289 - auc_8: 0.8571 - val_loss: 0.6761 - val_accuracy: 0.7141 - val_precision_34: 0.2441 - val_recall_34: 0.2500 - val_auc_8: 0.5033\n",
            "Epoch 83/100\n",
            "104/104 - 9s - loss: 0.6990 - accuracy: 0.8184 - precision_34: 0.7250 - recall_34: 0.4265 - auc_8: 0.8516 - val_loss: 0.6752 - val_accuracy: 0.7141 - val_precision_34: 0.2481 - val_recall_34: 0.2581 - val_auc_8: 0.5036\n",
            "Epoch 84/100\n",
            "104/104 - 9s - loss: 0.6828 - accuracy: 0.8248 - precision_34: 0.7443 - recall_34: 0.4424 - auc_8: 0.8598 - val_loss: 0.6751 - val_accuracy: 0.7156 - val_precision_34: 0.2460 - val_recall_34: 0.2500 - val_auc_8: 0.5037\n",
            "Epoch 85/100\n",
            "104/104 - 9s - loss: 0.6920 - accuracy: 0.8220 - precision_34: 0.7298 - recall_34: 0.4436 - auc_8: 0.8553 - val_loss: 0.6773 - val_accuracy: 0.7171 - val_precision_34: 0.2520 - val_recall_34: 0.2581 - val_auc_8: 0.5036\n",
            "Epoch 86/100\n",
            "104/104 - 9s - loss: 0.6950 - accuracy: 0.8187 - precision_34: 0.7275 - recall_34: 0.4252 - auc_8: 0.8541 - val_loss: 0.6746 - val_accuracy: 0.7141 - val_precision_34: 0.2441 - val_recall_34: 0.2500 - val_auc_8: 0.5040\n",
            "Epoch 87/100\n",
            "104/104 - 9s - loss: 0.6912 - accuracy: 0.8202 - precision_34: 0.7293 - recall_34: 0.4326 - auc_8: 0.8586 - val_loss: 0.6756 - val_accuracy: 0.7126 - val_precision_34: 0.2422 - val_recall_34: 0.2500 - val_auc_8: 0.5040\n",
            "Epoch 88/100\n",
            "104/104 - 10s - loss: 0.6852 - accuracy: 0.8205 - precision_34: 0.7253 - recall_34: 0.4400 - auc_8: 0.8573 - val_loss: 0.6779 - val_accuracy: 0.7126 - val_precision_34: 0.2422 - val_recall_34: 0.2500 - val_auc_8: 0.5036\n",
            "Epoch 89/100\n",
            "104/104 - 9s - loss: 0.6926 - accuracy: 0.8181 - precision_34: 0.7254 - recall_34: 0.4240 - auc_8: 0.8546 - val_loss: 0.6776 - val_accuracy: 0.7156 - val_precision_34: 0.2500 - val_recall_34: 0.2581 - val_auc_8: 0.5041\n",
            "Epoch 90/100\n",
            "104/104 - 9s - loss: 0.6944 - accuracy: 0.8202 - precision_34: 0.7312 - recall_34: 0.4301 - auc_8: 0.8567 - val_loss: 0.6770 - val_accuracy: 0.7156 - val_precision_34: 0.2500 - val_recall_34: 0.2581 - val_auc_8: 0.5037\n",
            "Epoch 91/100\n",
            "104/104 - 9s - loss: 0.6861 - accuracy: 0.8199 - precision_34: 0.7232 - recall_34: 0.4387 - auc_8: 0.8589 - val_loss: 0.6768 - val_accuracy: 0.7156 - val_precision_34: 0.2500 - val_recall_34: 0.2581 - val_auc_8: 0.5039\n",
            "Epoch 92/100\n",
            "104/104 - 10s - loss: 0.7045 - accuracy: 0.8187 - precision_34: 0.7228 - recall_34: 0.4314 - auc_8: 0.8510 - val_loss: 0.6790 - val_accuracy: 0.7141 - val_precision_34: 0.2441 - val_recall_34: 0.2500 - val_auc_8: 0.5026\n",
            "Epoch 93/100\n",
            "104/104 - 9s - loss: 0.6937 - accuracy: 0.8181 - precision_34: 0.7181 - recall_34: 0.4338 - auc_8: 0.8523 - val_loss: 0.6762 - val_accuracy: 0.7141 - val_precision_34: 0.2481 - val_recall_34: 0.2581 - val_auc_8: 0.5028\n",
            "Epoch 94/100\n",
            "104/104 - 9s - loss: 0.6883 - accuracy: 0.8184 - precision_34: 0.7259 - recall_34: 0.4252 - auc_8: 0.8564 - val_loss: 0.6755 - val_accuracy: 0.7171 - val_precision_34: 0.2520 - val_recall_34: 0.2581 - val_auc_8: 0.5031\n",
            "Epoch 95/100\n",
            "104/104 - 10s - loss: 0.6830 - accuracy: 0.8235 - precision_34: 0.7354 - recall_34: 0.4461 - auc_8: 0.8593 - val_loss: 0.6779 - val_accuracy: 0.7141 - val_precision_34: 0.2481 - val_recall_34: 0.2581 - val_auc_8: 0.5039\n",
            "Epoch 96/100\n",
            "104/104 - 9s - loss: 0.6960 - accuracy: 0.8166 - precision_34: 0.7143 - recall_34: 0.4289 - auc_8: 0.8532 - val_loss: 0.6769 - val_accuracy: 0.7156 - val_precision_34: 0.2500 - val_recall_34: 0.2581 - val_auc_8: 0.5036\n",
            "Epoch 97/100\n",
            "104/104 - 9s - loss: 0.6857 - accuracy: 0.8208 - precision_34: 0.7267 - recall_34: 0.4400 - auc_8: 0.8587 - val_loss: 0.6769 - val_accuracy: 0.7156 - val_precision_34: 0.2500 - val_recall_34: 0.2581 - val_auc_8: 0.5041\n",
            "Epoch 98/100\n",
            "104/104 - 9s - loss: 0.6847 - accuracy: 0.8184 - precision_34: 0.7177 - recall_34: 0.4363 - auc_8: 0.8603 - val_loss: 0.6781 - val_accuracy: 0.7156 - val_precision_34: 0.2500 - val_recall_34: 0.2581 - val_auc_8: 0.5040\n",
            "Epoch 99/100\n",
            "104/104 - 9s - loss: 0.6939 - accuracy: 0.8196 - precision_34: 0.7301 - recall_34: 0.4277 - auc_8: 0.8538 - val_loss: 0.6797 - val_accuracy: 0.7141 - val_precision_34: 0.2481 - val_recall_34: 0.2581 - val_auc_8: 0.5029\n",
            "Epoch 100/100\n",
            "104/104 - 9s - loss: 0.6821 - accuracy: 0.8260 - precision_34: 0.7464 - recall_34: 0.4473 - auc_8: 0.8601 - val_loss: 0.6785 - val_accuracy: 0.7141 - val_precision_34: 0.2481 - val_recall_34: 0.2581 - val_auc_8: 0.5046\n"
          ],
          "name": "stdout"
        }
      ]
    },
    {
      "cell_type": "code",
      "metadata": {
        "colab": {
          "base_uri": "https://localhost:8080/",
          "height": 403
        },
        "id": "sVyzsvAbfJPa",
        "outputId": "106cfc31-7bef-433c-e2d9-e9043d1d1dff"
      },
      "source": [
        "import matplotlib.pyplot as plt\n",
        "import glob\n",
        "fig, axes = plt.subplots(1,2, figsize=(18, 6))\n",
        "# Plot training & validation accuracy values\n",
        "axes[0].plot(history.history['auc_8'])\n",
        "axes[0].plot(history.history['val_auc_8'])\n",
        "axes[0].set_title('Model auc')\n",
        "axes[0].set_ylabel('Auc')\n",
        "axes[0].set_xlabel('Epoch')\n",
        "axes[0].legend(['Train', 'Validation'], loc='upper left')\n",
        "\n",
        "# Plot training & validation loss values\n",
        "axes[1].plot(history.history['recall_34'])\n",
        "axes[1].plot(history.history['val_recall_34'])\n",
        "axes[1].set_title('Model recall')\n",
        "axes[1].set_ylabel('recall')\n",
        "axes[1].set_xlabel('Epoch')\n",
        "axes[1].legend(['Train', 'Validation'], loc='upper left')\n",
        "plt.show()"
      ],
      "execution_count": null,
      "outputs": [
        {
          "output_type": "display_data",
          "data": {
            "image/png": "[encoded data removed]",
            "text/plain": [
              "<Figure size 1296x432 with 2 Axes>"
            ]
          },
          "metadata": {
            "tags": [],
            "needs_background": "light"
          }
        }
      ]
    },
    {
      "cell_type": "markdown",
      "metadata": {
        "id": "Rm_qnhprBtdX"
      },
      "source": [
        "MODEL 2(CNN)"
      ]
    },
    {
      "cell_type": "code",
      "metadata": {
        "id": "aluAnxi3CEBr"
      },
      "source": [
        "width=20\n",
        "height=597\n",
        "batch_size=20\n",
        "num_epochs=15"
      ],
      "execution_count": null,
      "outputs": []
    },
    {
      "cell_type": "code",
      "metadata": {
        "id": "Ur1WTQPPkmto",
        "colab": {
          "base_uri": "https://localhost:8080/"
        },
        "outputId": "765f59fc-514b-4a6e-91a9-776f88afe10e"
      },
      "source": [
        "model = Sequential()\n",
        "\n",
        "#Convol\n",
        "model.add(Conv2D(128, (3, 3), activation='relu', input_shape=(width, height,1), data_format='channels_last'))\n",
        "model.add(BatchNormalization())\n",
        "\n",
        "model.add(Conv2D(128, (3, 3), activation='relu', padding='same'))\n",
        "model.add(BatchNormalization())\n",
        "model.add(MaxPooling2D((2, 2), strides=(2, 2)))\n",
        "\n",
        "model.add(Conv2D(128, (3, 3), activation='relu', padding='same'))\n",
        "model.add(BatchNormalization())\n",
        "\n",
        "model.add(Conv2D(256, (3, 3), activation='relu', padding='same'))\n",
        "model.add(BatchNormalization())\n",
        "\n",
        "model.add(Conv2D(256, (3, 3), activation='relu', padding='same'))\n",
        "model.add(BatchNormalization())\n",
        "model.add(MaxPooling2D((2, 2), strides=(2, 2)))\n",
        "\n",
        "\n",
        "#Flatten\n",
        "model.add(Flatten())\n",
        "\n",
        "#Dense set 1\n",
        "model.add(Dense(128, activation='relu'))\n",
        "model.add(BatchNormalization())\n",
        "\n",
        "#Dense set 2\n",
        "model.add(Dense(64,activation='relu'))\n",
        "model.add(BatchNormalization())\n",
        "\n",
        "\n",
        "#Output layer\n",
        "model.add(Dense(1, activation='sigmoid'))\n",
        "\n",
        "model.compile(loss='binary_crossentropy', optimizer='adam', metrics=['accuracy', keras.metrics.Precision(), keras.metrics.Recall()])\n",
        "\n",
        "model.summary()"
      ],
      "execution_count": null,
      "outputs": [
        {
          "output_type": "stream",
          "text": [
            "Model: \"sequential_7\"\n",
            "_________________________________________________________________\n",
            "Layer (type)                 Output Shape              Param #   \n",
            "=================================================================\n",
            "conv2d_31 (Conv2D)           (None, 18, 595, 128)      1280      \n",
            "_________________________________________________________________\n",
            "batch_normalization_42 (Batc (None, 18, 595, 128)      512       \n",
            "_________________________________________________________________\n",
            "conv2d_32 (Conv2D)           (None, 18, 595, 128)      147584    \n",
            "_________________________________________________________________\n",
            "batch_normalization_43 (Batc (None, 18, 595, 128)      512       \n",
            "_________________________________________________________________\n",
            "max_pooling2d_12 (MaxPooling (None, 9, 297, 128)       0         \n",
            "_________________________________________________________________\n",
            "conv2d_33 (Conv2D)           (None, 9, 297, 128)       147584    \n",
            "_________________________________________________________________\n",
            "batch_normalization_44 (Batc (None, 9, 297, 128)       512       \n",
            "_________________________________________________________________\n",
            "conv2d_34 (Conv2D)           (None, 9, 297, 256)       295168    \n",
            "_________________________________________________________________\n",
            "batch_normalization_45 (Batc (None, 9, 297, 256)       1024      \n",
            "_________________________________________________________________\n",
            "conv2d_35 (Conv2D)           (None, 9, 297, 256)       590080    \n",
            "_________________________________________________________________\n",
            "batch_normalization_46 (Batc (None, 9, 297, 256)       1024      \n",
            "_________________________________________________________________\n",
            "max_pooling2d_13 (MaxPooling (None, 4, 148, 256)       0         \n",
            "_________________________________________________________________\n",
            "flatten_6 (Flatten)          (None, 151552)            0         \n",
            "_________________________________________________________________\n",
            "dense_18 (Dense)             (None, 128)               19398784  \n",
            "_________________________________________________________________\n",
            "batch_normalization_47 (Batc (None, 128)               512       \n",
            "_________________________________________________________________\n",
            "dense_19 (Dense)             (None, 64)                8256      \n",
            "_________________________________________________________________\n",
            "batch_normalization_48 (Batc (None, 64)                256       \n",
            "_________________________________________________________________\n",
            "dense_20 (Dense)             (None, 1)                 65        \n",
            "=================================================================\n",
            "Total params: 20,593,153\n",
            "Trainable params: 20,590,977\n",
            "Non-trainable params: 2,176\n",
            "_________________________________________________________________\n"
          ],
          "name": "stdout"
        }
      ]
    },
    {
      "cell_type": "code",
      "metadata": {
        "id": "3-FdV-4wr_UM"
      },
      "source": [
        "from keras.models import Sequential\n",
        "from keras.layers import Dense, Dropout, Activation, Flatten\n",
        "from keras.layers import Conv2D, MaxPooling2D, BatchNormalization\n",
        "from keras.losses import categorical_crossentropy\n",
        "from sklearn.metrics import accuracy_score\n",
        "from keras.optimizers import Adam\n",
        "from keras.regularizers import l2\n",
        "from keras.preprocessing.image import ImageDataGenerator\n",
        "from sklearn.metrics import classification_report, confusion_matrix\n",
        "from sklearn.model_selection import train_test_split\n",
        "import matplotlib.pyplot as plt\n",
        "import seaborn as sns\n",
        "\n",
        "import os\n",
        "\n",
        "reduce_lr = ReduceLROnPlateau(monitor='val_loss', factor=0.2,\n",
        "                              patience=5, min_lr=0.001)\n",
        "\n",
        "\n",
        "history = model.fit((train_X,train_Y),\n",
        "                                #steps_per_epoch=len(train_X) / batch_size,\n",
        "                      validation_data=(val_X,val_Y),\n",
        "                                #epochs=num_epochs,\n",
        "                                #verbose=2, \n",
        "                                #callbacks = [es],\n",
        "                                #callbacks=[reduce_lr]\n",
        "                      )\n"
      ],
      "execution_count": null,
      "outputs": []
    },
    {
      "cell_type": "code",
      "metadata": {
        "id": "b4d3oNDmuPrm"
      },
      "source": [
        "print(type(val_Y))\n",
        "val_Y=np.array(val_Y)\n",
        "print(np.sum(np.isnan(val_Y)))\n",
        "print(train_X.shape)\n",
        "print(train_Y.shape)\n",
        "print(val_X.shape)\n",
        "print(val_Y.shape)"
      ],
      "execution_count": null,
      "outputs": []
    },
    {
      "cell_type": "code",
      "metadata": {
        "id": "wWd0-q6RTPOP"
      },
      "source": [
        "!pip install q keras==2.0.6"
      ],
      "execution_count": null,
      "outputs": []
    },
    {
      "cell_type": "code",
      "metadata": {
        "id": "VxPfhplYrVGh"
      },
      "source": [
        "pip install tensorflow-gpu==2.4.1"
      ],
      "execution_count": null,
      "outputs": []
    }
  ]
}