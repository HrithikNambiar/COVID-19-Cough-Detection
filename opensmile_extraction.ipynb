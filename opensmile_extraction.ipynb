{
  "nbformat": 4,
  "nbformat_minor": 0,
  "metadata": {
    "colab": {
      "name": "opensmile_extraction.ipynb",
      "provenance": [],
      "mount_file_id": "1KMaA39dx6klBtbmV-3pCuX_TUgmEMgUX",
      "authorship_tag": "ABX9TyOnqS5pMO4eH9eQ7fmraN7T",
      "include_colab_link": true
    },
    "kernelspec": {
      "name": "python3",
      "display_name": "Python 3"
    }
  },
  "cells": [
    {
      "cell_type": "markdown",
      "metadata": {
        "id": "view-in-github",
        "colab_type": "text"
      },
      "source": [
        "<a href=\"https://colab.research.google.com/github/HrithikNambiar/COVID-19-Cough-Detection/blob/main/opensmile_extraction.ipynb\" target=\"_parent\"><img src=\"https://colab.research.google.com/assets/colab-badge.svg\" alt=\"Open In Colab\"/></a>"
      ]
    },
    {
      "cell_type": "code",
      "metadata": {
        "id": "bPM4EL4pnXC4",
        "colab": {
          "base_uri": "https://localhost:8080/"
        },
        "outputId": "7935b3a5-33fa-4e71-a122-5ec193a8e7fa"
      },
      "source": [
        "cd /content/drive/MyDrive/ComParE2021"
      ],
      "execution_count": null,
      "outputs": [
        {
          "output_type": "stream",
          "text": [
            "/content/drive/MyDrive/ComParE2021\n"
          ],
          "name": "stdout"
        }
      ]
    },
    {
      "cell_type": "code",
      "metadata": {
        "colab": {
          "base_uri": "https://localhost:8080/"
        },
        "id": "7sPT6--Orn7M",
        "outputId": "f8dce165-6ef7-4418-8b13-eb1b1b809836"
      },
      "source": [
        "!ls"
      ],
      "execution_count": null,
      "outputs": [
        {
          "output_type": "stream",
          "text": [
            "activate\t  chunk4.wav\t features\t\t\t   README.md\n",
            "audeep_workspace  chunk5.wav\t features_2\t\t\t   results\n",
            "augmented_dist\t  chunk6.wav\t Miniconda3-4.5.4-Linux-x86_64.sh  scripts\n",
            "chunk0.wav\t  data\t\t notebooks\t\t\t   smile.log\n",
            "chunk1.wav\t  data_2\t opensmile\t\t\t   src\n",
            "chunk2.wav\t  dist\t\t openxbow\n",
            "chunk3.wav\t  end2you_files  params.yaml\n"
          ],
          "name": "stdout"
        }
      ]
    },
    {
      "cell_type": "code",
      "metadata": {
        "id": "iQpxvs5toYhd"
      },
      "source": [
        "!pip install -U PyYAML\n",
        "!pip install liac-arff\n",
        "!pip install -U scikit-learn scipy matplotlib"
      ],
      "execution_count": null,
      "outputs": []
    },
    {
      "cell_type": "code",
      "metadata": {
        "id": "Pp7cqtb8pl9B"
      },
      "source": [
        "!bash /content/drive/MyDrive/ComParE2021/scripts/download_opensmile.sh"
      ],
      "execution_count": null,
      "outputs": []
    },
    {
      "cell_type": "code",
      "metadata": {
        "id": "yFyLPyYNb29B"
      },
      "source": [
        "import os, yaml, subprocess, glob, csv\n",
        "import pandas as pd\n",
        "from tqdm import tqdm"
      ],
      "execution_count": null,
      "outputs": []
    },
    {
      "cell_type": "code",
      "metadata": {
        "id": "8dTH4AACoF3Q",
        "colab": {
          "base_uri": "https://localhost:8080/"
        },
        "outputId": "7f113dff-f286-472b-f316-4ab978fe2d7d"
      },
      "source": [
        "params = {}\n",
        "with open('params.yaml') as f:\n",
        "    params = yaml.load(f, Loader=yaml.FullLoader)\n",
        "    params = params['opensmile']\n",
        "\n",
        "feature_sets = params['featureSets']\n",
        "\n",
        "# base directory for audio files\n",
        "audio_base='/content/drive/MyDrive/ComParE2021/data_2/train'  # change the audio base to the directory with audio files.\n",
        "output_base='/content/drive/MyDrive/ComParE2021/features_2/opensmile'\n",
        "label_base='/content/drive/MyDrive/ComParE2021/data_2'\n",
        "\n",
        "label_files = list(glob.glob(f'{label_base}/*.csv'))\n",
        "print(label_files)"
      ],
      "execution_count": null,
      "outputs": [
        {
          "output_type": "stream",
          "text": [
            "['/content/drive/MyDrive/ComParE2021/data_2/train.csv', '/content/drive/MyDrive/ComParE2021/data_2/test.csv', '/content/drive/MyDrive/ComParE2021/data_2/val.csv']\n"
          ],
          "name": "stdout"
        }
      ]
    },
    {
      "cell_type": "code",
      "metadata": {
        "id": "BXmjsYeQoQOc"
      },
      "source": [
        "df = pd.read_csv(list(label_files)[0])\n",
        "classes = sorted(set(df.label.values))\n",
        "classtype = '{' + ','.join(classes) + '}'"
      ],
      "execution_count": null,
      "outputs": []
    },
    {
      "cell_type": "code",
      "metadata": {
        "colab": {
          "base_uri": "https://localhost:8080/"
        },
        "id": "xGvlqTTwqnUo",
        "outputId": "b396b1d1-bcd0-4dbb-b22c-f7848d362b12"
      },
      "source": [
        "for feature_set in feature_sets:\n",
        "    out_dir = os.path.join(output_base, os.path.splitext(os.path.basename(feature_set))[0])\n",
        "    os.makedirs(out_dir, exist_ok=True)\n",
        "    for label_file in label_files:\n",
        "        fid = [feature_set, os.path.basename(label_file)]\n",
        "        featFile = os.path.join(*fid)\n",
        "        outputFeat = os.path.join(output_base, featFile)\n",
        "        outfile_base = os.path.join(out_dir, f'{os.path.splitext(os.path.basename(label_file))[0]}')\n",
        "        outfile = f'{outfile_base}.arff'\n",
        "        outfile_lld = f'{outfile_base}_lld.arff'\n",
        "        with open(label_file) as f:\n",
        "            reader = csv.reader(f, delimiter=',')\n",
        "            next(reader) # skip header\n",
        "            for filename, label in tqdm(reader):\n",
        "                cmd = f'/content/drive/MyDrive/ComParE2021/opensmile/bin/SMILExtract -noconsoleoutput -C /content/drive/MyDrive/ComParE2021/opensmile/config/{feature_set} -I {audio_base}/{filename} -N {filename} -class {label} -classtype \"{classtype}\" -O {outfile} -lldarffoutput {outfile_lld} -timestamparfflld 0'\n",
        "                os.system(cmd)"
      ],
      "execution_count": null,
      "outputs": [
        {
          "output_type": "stream",
          "text": [
            "3304it [31:52,  1.73it/s]\n",
            "590it [00:37, 15.63it/s]\n",
            "661it [00:36, 18.34it/s]\n"
          ],
          "name": "stderr"
        }
      ]
    },
    {
      "cell_type": "markdown",
      "metadata": {
        "id": "RFHQlkmGBpqR"
      },
      "source": [
        "Running baseline on opensmile features\n"
      ]
    },
    {
      "cell_type": "code",
      "metadata": {
        "colab": {
          "base_uri": "https://localhost:8080/"
        },
        "id": "e7-mEgKpxpaa",
        "outputId": "478ddc82-507d-4f19-8b8a-ba027eae6f49"
      },
      "source": [
        "!python -m src.svm opensmile #chamge FEATUREBASE to ./dist/features in src.svm to test baseline"
      ],
      "execution_count": null,
      "outputs": [
        {
          "output_type": "stream",
          "text": [
            "Fitting 1 folds for each of 20 candidates, totalling 20 fits\n",
            "/usr/local/lib/python3.7/dist-packages/sklearn/svm/_base.py:986: ConvergenceWarning: Liblinear failed to converge, increase the number of iterations.\n",
            "  \"the number of iterations.\", ConvergenceWarning)\n",
            "/usr/local/lib/python3.7/dist-packages/sklearn/svm/_base.py:986: ConvergenceWarning: Liblinear failed to converge, increase the number of iterations.\n",
            "  \"the number of iterations.\", ConvergenceWarning)\n",
            "/usr/local/lib/python3.7/dist-packages/sklearn/svm/_base.py:986: ConvergenceWarning: Liblinear failed to converge, increase the number of iterations.\n",
            "  \"the number of iterations.\", ConvergenceWarning)\n",
            "/usr/local/lib/python3.7/dist-packages/sklearn/svm/_base.py:986: ConvergenceWarning: Liblinear failed to converge, increase the number of iterations.\n",
            "  \"the number of iterations.\", ConvergenceWarning)\n",
            "/usr/local/lib/python3.7/dist-packages/sklearn/svm/_base.py:986: ConvergenceWarning: Liblinear failed to converge, increase the number of iterations.\n",
            "  \"the number of iterations.\", ConvergenceWarning)\n",
            "/usr/local/lib/python3.7/dist-packages/sklearn/svm/_base.py:986: ConvergenceWarning: Liblinear failed to converge, increase the number of iterations.\n",
            "  \"the number of iterations.\", ConvergenceWarning)\n",
            "/usr/local/lib/python3.7/dist-packages/sklearn/svm/_base.py:986: ConvergenceWarning: Liblinear failed to converge, increase the number of iterations.\n",
            "  \"the number of iterations.\", ConvergenceWarning)\n",
            "/usr/local/lib/python3.7/dist-packages/sklearn/svm/_base.py:986: ConvergenceWarning: Liblinear failed to converge, increase the number of iterations.\n",
            "  \"the number of iterations.\", ConvergenceWarning)\n",
            "/usr/local/lib/python3.7/dist-packages/sklearn/svm/_base.py:986: ConvergenceWarning: Liblinear failed to converge, increase the number of iterations.\n",
            "  \"the number of iterations.\", ConvergenceWarning)\n",
            "/usr/local/lib/python3.7/dist-packages/sklearn/svm/_base.py:986: ConvergenceWarning: Liblinear failed to converge, increase the number of iterations.\n",
            "  \"the number of iterations.\", ConvergenceWarning)\n",
            "UAR: 0.6139002732240437\n",
            "              precision    recall  f1-score   support\n",
            "\n",
            "    negative       0.85      0.75      0.79       183\n",
            "    positive       0.33      0.48      0.39        48\n",
            "\n",
            "    accuracy                           0.69       231\n",
            "   macro avg       0.59      0.61      0.59       231\n",
            "weighted avg       0.74      0.69      0.71       231\n",
            "\n",
            "\n",
            "Confusion Matrix:\n",
            "\n",
            "[[137  46]\n",
            " [ 25  23]]\n",
            "Generating test predictions for optimised parameters {'estimator': \"LinearSVC(C=0.1, class_weight='balanced', max_iter=10000, random_state=42)\", 'estimator__C': '0.1', 'estimator__class_weight': 'balanced', 'estimator__loss': 'squared_hinge', 'estimator__max_iter': 10000, 'scaler': 'StandardScaler()'}\n"
          ],
          "name": "stdout"
        }
      ]
    },
    {
      "cell_type": "markdown",
      "metadata": {
        "id": "v7693V7kBy6c"
      },
      "source": [
        "Running baseline svm on opensmile features extracted from Augmented data"
      ]
    },
    {
      "cell_type": "code",
      "metadata": {
        "colab": {
          "base_uri": "https://localhost:8080/"
        },
        "id": "A9eHEanV4iH5",
        "outputId": "4e4ece71-9a15-400f-b75c-27b061779639"
      },
      "source": [
        "!python -m src.svm opensmile"
      ],
      "execution_count": null,
      "outputs": [
        {
          "output_type": "stream",
          "text": [
            "tcmalloc: large alloc 1516544000 bytes == 0x55e3a9b70000 @  0x7f9276e82001 0x7f92739c654f 0x7f9273a16b58 0x7f9273a19e83 0x7f9273a1a07b 0x7f9273abb761 0x55e39a9f2050 0x55e39a9f1de0 0x55e39aa66244 0x55e39aa60e0d 0x55e39a9f377a 0x55e39aa61a45 0x55e39aa60b0e 0x55e39aa60813 0x55e39aa5ecc0 0x55e39a9f1ee9 0x55e39a9f1de0 0x55e39aa65ac2 0x55e39aa60b0e 0x55e39a9f377a 0x55e39aa61a45 0x55e39aa60b0e 0x55e39a932eb0 0x55e39ab04521 0x55e39ab0213a 0x55e39ab01dac 0x7f9275c6abf7 0x55e39ab01c8a\n",
            "tcmalloc: large alloc 1516544000 bytes == 0x55e3a9b70000 @  0x7f9276e82001 0x7f92739c654f 0x7f9273a16b58 0x7f9273a19e83 0x7f9273a1a07b 0x7f9273abb761 0x55e39a9f2050 0x55e39a9f1de0 0x55e39aa66244 0x55e39aa60e0d 0x55e39a9f377a 0x55e39aa61a45 0x55e39aa60b0e 0x55e39aa60813 0x55e39aa5ecc0 0x55e39a9f1ee9 0x55e39a9f1de0 0x55e39aa65ac2 0x55e39aa60b0e 0x55e39a9f377a 0x55e39aa61a45 0x55e39aa60b0e 0x55e39a932eb0 0x55e39ab04521 0x55e39ab0213a 0x55e39ab01dac 0x7f9275c6abf7 0x55e39ab01c8a\n",
            "Fitting 1 folds for each of 20 candidates, totalling 20 fits\n",
            "/usr/local/lib/python3.7/dist-packages/sklearn/svm/_base.py:986: ConvergenceWarning: Liblinear failed to converge, increase the number of iterations.\n",
            "  \"the number of iterations.\", ConvergenceWarning)\n",
            "/usr/local/lib/python3.7/dist-packages/sklearn/svm/_base.py:986: ConvergenceWarning: Liblinear failed to converge, increase the number of iterations.\n",
            "  \"the number of iterations.\", ConvergenceWarning)\n",
            "/usr/local/lib/python3.7/dist-packages/joblib/externals/loky/process_executor.py:691: UserWarning: A worker stopped while some jobs were given to the executor. This can be caused by a too short worker timeout or by a memory leak.\n",
            "  \"timeout or by a memory leak.\", UserWarning\n",
            "/usr/local/lib/python3.7/dist-packages/sklearn/svm/_base.py:986: ConvergenceWarning: Liblinear failed to converge, increase the number of iterations.\n",
            "  \"the number of iterations.\", ConvergenceWarning)\n",
            "/usr/local/lib/python3.7/dist-packages/sklearn/svm/_base.py:986: ConvergenceWarning: Liblinear failed to converge, increase the number of iterations.\n",
            "  \"the number of iterations.\", ConvergenceWarning)\n",
            "/usr/local/lib/python3.7/dist-packages/sklearn/svm/_base.py:986: ConvergenceWarning: Liblinear failed to converge, increase the number of iterations.\n",
            "  \"the number of iterations.\", ConvergenceWarning)\n",
            "/usr/local/lib/python3.7/dist-packages/sklearn/svm/_base.py:986: ConvergenceWarning: Liblinear failed to converge, increase the number of iterations.\n",
            "  \"the number of iterations.\", ConvergenceWarning)\n",
            "/usr/local/lib/python3.7/dist-packages/sklearn/svm/_base.py:986: ConvergenceWarning: Liblinear failed to converge, increase the number of iterations.\n",
            "  \"the number of iterations.\", ConvergenceWarning)\n",
            "/usr/local/lib/python3.7/dist-packages/sklearn/svm/_base.py:986: ConvergenceWarning: Liblinear failed to converge, increase the number of iterations.\n",
            "  \"the number of iterations.\", ConvergenceWarning)\n",
            "/usr/local/lib/python3.7/dist-packages/sklearn/svm/_base.py:986: ConvergenceWarning: Liblinear failed to converge, increase the number of iterations.\n",
            "  \"the number of iterations.\", ConvergenceWarning)\n",
            "/usr/local/lib/python3.7/dist-packages/sklearn/svm/_base.py:986: ConvergenceWarning: Liblinear failed to converge, increase the number of iterations.\n",
            "  \"the number of iterations.\", ConvergenceWarning)\n",
            "/usr/local/lib/python3.7/dist-packages/sklearn/svm/_base.py:986: ConvergenceWarning: Liblinear failed to converge, increase the number of iterations.\n",
            "  \"the number of iterations.\", ConvergenceWarning)\n",
            "UAR: 0.6612021857923497\n",
            "              precision    recall  f1-score   support\n",
            "\n",
            "    negative       0.88      0.66      0.75       183\n",
            "    positive       0.34      0.67      0.45        48\n",
            "\n",
            "    accuracy                           0.66       231\n",
            "   macro avg       0.61      0.66      0.60       231\n",
            "weighted avg       0.77      0.66      0.69       231\n",
            "\n",
            "\n",
            "Confusion Matrix:\n",
            "\n",
            "[[120  63]\n",
            " [ 16  32]]\n",
            "Generating test predictions for optimised parameters {'estimator': \"LinearSVC(C=0.001, class_weight='balanced', max_iter=10000, random_state=42)\", 'estimator__C': '0.001', 'estimator__class_weight': 'balanced', 'estimator__loss': 'squared_hinge', 'estimator__max_iter': 10000, 'scaler': 'StandardScaler()'}\n"
          ],
          "name": "stdout"
        }
      ]
    },
    {
      "cell_type": "code",
      "metadata": {
        "id": "imhPpJeaphe5"
      },
      "source": [
        ""
      ],
      "execution_count": null,
      "outputs": []
    }
  ]
}